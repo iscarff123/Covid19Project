{
 "cells": [
  {
   "cell_type": "code",
   "execution_count": 2,
   "metadata": {},
   "outputs": [],
   "source": [
    "import numpy as np\n",
    "import pandas as pd\n",
    "import plotly\n",
    "import plotly.express as px\n",
    "import plotly.graph_objs as go\n",
    "from plotly.subplots import make_subplots\n",
    "import dash\n",
    "import dash_core_components as dcc\n",
    "import dash_table\n",
    "import dash_html_components as html\n",
    "from dash.dependencies import Input, Output\n",
    "import import_ipynb"
   ]
  },
  {
   "cell_type": "code",
   "execution_count": 20,
   "metadata": {},
   "outputs": [],
   "source": [
    "!python3.7 Data_Preprocessing.ipynb"
   ]
  },
  {
   "cell_type": "code",
   "execution_count": null,
   "metadata": {},
   "outputs": [],
   "source": [
    "fig = px.choropleth(locations=[\"CA\", \"TX\", \"NY\", \"DC\"], locationmode=\"USA-states\", color=[1,2,3,4], scope=\"usa\")\n",
    "fig.show()"
   ]
  },
  {
   "cell_type": "code",
   "execution_count": null,
   "metadata": {},
   "outputs": [],
   "source": [
    "hospital = pd.read_csv(\"data/hospitalData.csv\")\n",
    "x1 = hospital[hospital[\"State\"] == \"United States\"]\n",
    "fig = go.Figure()\n",
    "fig.add_trace(go.Scatter(\n",
    "    x = x1[\"Date\"],\n",
    "    y = x1[\"InpatBeds_Occ_AnyPat_LoCI\"],\n",
    "    mode = \"lines\",\n",
    "    line_color = \"blue\",\n",
    "    name = \"95% CI Lower\"))\n",
    "fig.add_trace(go.Scatter(\n",
    "    x = x1[\"Date\"],\n",
    "    y = x1[\"InpatBeds_Occ_AnyPat_UpCI\"],\n",
    "    fill = \"tonexty\",\n",
    "    mode = \"lines\",\n",
    "    line_color = \"blue\",\n",
    "    name = \"95% CI Upper\"))\n",
    "fig.add_trace(go.Scatter(\n",
    "    x = x1[\"Date\"],\n",
    "    y = x1[\"InpatBeds_Occ_AnyPat_Est\"],\n",
    "    line_color = \"black\",\n",
    "    name = \"Estimate\"\n",
    "))\n",
    "fig.add_trace(go.Scatter(\n",
    "    x = x1[\"Date\"],\n",
    "    y = x1[\"InpatBeds_Occ_AnyPat_Est_Avail\"],\n",
    "    line_color = \"red\",\n",
    "    name = \"Estimated Availability\"\n",
    "))\n",
    "\n",
    "\n",
    "fig.update_layout(hovermode = \"x\")\n",
    "\n",
    "fig.show()"
   ]
  },
  {
   "cell_type": "code",
   "execution_count": null,
   "metadata": {},
   "outputs": [],
   "source": [
    "usaData = pd.read_csv('data/usaData.csv')\n",
    "usaData\n",
    "fig = make_subplots(specs = [[{\"secondary_y\" : True}]])\n",
    "\n",
    "fig.add_trace(\n",
    "    go.Scatter(x = usaData[\"Date\"], y = usaData[\"New Cases\"], name = \"New Cases\"),\n",
    "    secondary_y = False)\n",
    "fig.add_trace(\n",
    "    go.Scatter(x = usaData[\"Date\"], y = usaData[\"New Deaths\"], name = \"New Deaths\"),\n",
    "    secondary_y = True)"
   ]
  },
  {
   "cell_type": "code",
   "execution_count": null,
   "metadata": {},
   "outputs": [],
   "source": [
    "usaData = pd.read_csv('data/usaData.csv')\n",
    "usaData\n",
    "\n",
    "x = usaData[usaData[\"%Retail/Rec Change\"].isnull() == False]\n",
    "x\n",
    "\n",
    "fig2 = make_subplots(specs = [[{\"secondary_y\" : True}]])\n",
    "\n",
    "fig2.add_trace(go.Scatter(\n",
    "    x = x[\"Date\"], y = x['New Cases'], name = \"New Cases\", line = dict(color = \"black\", dash = \"dot\", width = 4),\n",
    "), secondary_y = False)\n",
    "\n",
    "fig2.add_trace(go.Scatter(\n",
    "    x = x[\"Date\"], y = x['%Retail/Rec Change'], name = \"Change in Retail/Recreation\", line = dict(color = \"yellow\"),\n",
    "), secondary_y = True)\n",
    "\n",
    "fig2.add_trace(go.Scatter(\n",
    "    x = x[\"Date\"], y = x['%Grocery/Pharm Change'], name = \"Change in Grocery/Pharmacy\", line = dict(color = \"red\"),\n",
    "), secondary_y = True)\n",
    "\n",
    "fig2.add_trace(go.Scatter(\n",
    "    x = x[\"Date\"], y = x['%Parks Change'], name = \"Change in Parks\", line = dict(color = \"green\"),\n",
    "), secondary_y = True)\n",
    "\n",
    "fig2.add_trace(go.Scatter(\n",
    "    x = x[\"Date\"], y = x['%Transit Change'], name = \"Change in Transit Stations\", line = dict(color = \"blue\"),\n",
    "), secondary_y = True)\n",
    "\n",
    "fig2.add_trace(go.Scatter(\n",
    "    x = x[\"Date\"], y = x['%Workplace Change'], name = \"Change in Workplaces\", line = dict(color = \"purple\"),\n",
    "), secondary_y = True)\n",
    "\n",
    "fig2.add_trace(go.Scatter(\n",
    "    x = x[\"Date\"], y = x['%Residential Change'], name = \"Change in Residential\", line = dict(color = \"orange\"),\n",
    "), secondary_y = True)\n",
    "\n",
    "fig.update_layout(\n",
    "    title = \"Changes in Mobility\",\n",
    "    xaxis = dict(title_text = \"Date\", title_standoff = 50),\n",
    "    yaxis_title = \"% Change from Baseline\"\n",
    ")"
   ]
  },
  {
   "cell_type": "code",
   "execution_count": null,
   "metadata": {},
   "outputs": [],
   "source": [
    "v = pd.read_csv(\"data/demoDeaths.csv\")\n",
    "x = v[v[\"State\"] == \"United States\"]\n",
    "np.max(x[\"COVID-19 Deaths\"])"
   ]
  },
  {
   "cell_type": "code",
   "execution_count": null,
   "metadata": {},
   "outputs": [],
   "source": [
    "v = pd.read_csv(\"data/demoDeaths.csv\")\n",
    "x = v[(v[\"State\"] == \"United States\") & (v[\"Sex\"] != \"All\")]\n",
    "x\n",
    "\n",
    "fig = go.Figure(data = [\n",
    "        go.Bar(name = \"Male\", x = x[\"Age group\"], y = x['COVID-19 Deaths'][x[\"Sex\"] == \"Male\"],\n",
    "              text = x['COVID-19 Deaths'][x[\"Sex\"] == \"Male\"], textposition = 'auto'),\n",
    "        go.Bar(name = \"Female\", x = x[\"Age group\"], y = x['COVID-19 Deaths'][x[\"Sex\"] == \"Female\"],\n",
    "              text = x['COVID-19 Deaths'][x[\"Sex\"] == \"Female\"], textposition = 'auto')])\n",
    "fig.update_layout(barmode = \"group\")\n",
    "\n",
    "fig.show()"
   ]
  },
  {
   "cell_type": "code",
   "execution_count": null,
   "metadata": {},
   "outputs": [],
   "source": [
    "v = pd.read_csv(\"data/raceDeaths.csv\")\n",
    "x = v[v[\"State\"] == \"United States\"]\n",
    "x\n",
    "\n",
    "# colors = ['crimson','green','yellow','blue','orange','purple']\n",
    "\n",
    "# fig = go.Figure(data = [go.Bar(\n",
    "#     x = x[\"Race\"], y = x[\"Count of COVID-19 deaths\"],\n",
    "#     text = x[\"Count of COVID-19 deaths\"],\n",
    "#     textposition = \"auto\",\n",
    "#     marker_color = colors)],)\n",
    "\n",
    "# fig.show()"
   ]
  },
  {
   "cell_type": "markdown",
   "metadata": {},
   "source": [
    "Use multiprocessing to: \n",
    "1) Calculate the number of new cases each day.\n",
    "\n",
    "2) Calculate the number of new deaths each day."
   ]
  },
  {
   "cell_type": "code",
   "execution_count": null,
   "metadata": {},
   "outputs": [],
   "source": [
    "### Import Pool from multiprocessing\n",
    "from multiprocessing import Pool"
   ]
  },
  {
   "cell_type": "code",
   "execution_count": null,
   "metadata": {},
   "outputs": [],
   "source": [
    "### Create a parallelizing function\n",
    "def parallel(data, func, n_cores = 4):\n",
    "    ### Split data by state into 4 sections\n",
    "    splits = np.array_split(cases_deaths[\"State\"].unique(), 4)\n",
    "    split1 = cases_deaths[cases_deaths[\"State\"].isin(list(splits[0]))]\n",
    "    split2 = cases_deaths[cases_deaths[\"State\"].isin(list(splits[1]))]\n",
    "    split3 = cases_deaths[cases_deaths[\"State\"].isin(list(splits[2]))]\n",
    "    split4 = cases_deaths[cases_deaths[\"State\"].isin(list(splits[3]))]\n",
    "    \n",
    "    ### Combine into list\n",
    "    data_split = [split1, split2, split3, split4]\n",
    "    \n",
    "    pool = Pool(n_cores)\n",
    "    data = pd.concat(pool.map(func, data_split))\n",
    "    pool.close()\n",
    "    pool.join()\n",
    "    return data"
   ]
  },
  {
   "cell_type": "code",
   "execution_count": null,
   "metadata": {},
   "outputs": [],
   "source": [
    "### Define function to create new cases data\n",
    "def newCases(data):\n",
    "    changeInCases = []\n",
    "    ### For each state.\n",
    "    for state in data[\"State\"].unique():\n",
    "        ### For each county in the state\n",
    "        for county in data[\"County Name\"][data[\"State\"] == state].unique():\n",
    "            ### Calculate diff in case for each day, keep first day\n",
    "            changeInCases.extend(abs(np.diff(data[\"Total Cases\"][(data[\"County Name\"] == county) &\n",
    "                                                                         (data[\"State\"] == state)],\n",
    "                                             prepend = data[\"Total Cases\"][(data[\"County Name\"] == county) &\n",
    "                                                                         (data[\"State\"] == state)].iloc[0])))\n",
    "    ### Add to data\n",
    "    data[\"New Cases\"] = changeInCases\n",
    "\n",
    "    return data"
   ]
  },
  {
   "cell_type": "code",
   "execution_count": null,
   "metadata": {},
   "outputs": [],
   "source": [
    "cases_deaths = parallel(cases_deaths, newCases)\n",
    "cases_deaths"
   ]
  },
  {
   "cell_type": "code",
   "execution_count": null,
   "metadata": {},
   "outputs": [],
   "source": [
    "### Define function to create new deaths data\n",
    "def newDeaths(data):\n",
    "    changeInDeaths = []\n",
    "    ### For each state.\n",
    "    for state in data[\"State\"].unique():\n",
    "        ### For each county in the state\n",
    "        for county in data[\"County Name\"][data[\"State\"] == state].unique():\n",
    "            ### Calculate diff in case for each day, keep first day\n",
    "            changeInDeaths.extend(abs(np.diff(data[\"Total Deaths\"][(data[\"County Name\"] == county) &\n",
    "                                                                           (data[\"State\"] == state)],\n",
    "                                             prepend = data[\"Total Deaths\"][(data[\"County Name\"] == county) &\n",
    "                                                                           (data[\"State\"] == state)].iloc[0])))\n",
    "            \n",
    "    ### Add to data\n",
    "    data[\"New Deaths\"] = changeInDeaths\n",
    "        \n",
    "    return data"
   ]
  },
  {
   "cell_type": "code",
   "execution_count": null,
   "metadata": {},
   "outputs": [],
   "source": [
    "cases_deaths = parallel(cases_deaths, newDeaths)\n",
    "cases_deaths"
   ]
  }
 ],
 "metadata": {
  "kernelspec": {
   "display_name": "Python 3",
   "language": "python",
   "name": "python3"
  },
  "language_info": {
   "codemirror_mode": {
    "name": "ipython",
    "version": 3
   },
   "file_extension": ".py",
   "mimetype": "text/x-python",
   "name": "python",
   "nbconvert_exporter": "python",
   "pygments_lexer": "ipython3",
   "version": "3.7.7"
  }
 },
 "nbformat": 4,
 "nbformat_minor": 4
}
