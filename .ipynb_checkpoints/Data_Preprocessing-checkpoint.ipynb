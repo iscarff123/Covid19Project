{
 "cells": [
  {
   "cell_type": "markdown",
   "metadata": {},
   "source": [
    "#  COVID-19 – Data-Based Prediction Tool "
   ]
  },
  {
   "cell_type": "markdown",
   "metadata": {},
   "source": [
    "## Ian Scarff (iie728)"
   ]
  },
  {
   "cell_type": "markdown",
   "metadata": {},
   "source": [
    "## Practicum II Project 2020"
   ]
  },
  {
   "cell_type": "markdown",
   "metadata": {},
   "source": [
    " "
   ]
  },
  {
   "cell_type": "markdown",
   "metadata": {},
   "source": [
    " "
   ]
  },
  {
   "cell_type": "markdown",
   "metadata": {},
   "source": [
    "### Import Packages"
   ]
  },
  {
   "cell_type": "code",
   "execution_count": 1,
   "metadata": {},
   "outputs": [],
   "source": [
    "import numpy as np\n",
    "import pandas as pd"
   ]
  },
  {
   "cell_type": "markdown",
   "metadata": {},
   "source": [
    "# Covid-19 Data Preprocessing"
   ]
  },
  {
   "cell_type": "markdown",
   "metadata": {},
   "source": [
    "### About the Data"
   ]
  },
  {
   "cell_type": "markdown",
   "metadata": {},
   "source": [
    "Data comes from the website usafacts.org under the webpage \n",
    "\"Coronavirus Locations: COVID-19 Map by County and State.\"\n",
    "\n",
    "The 21 cases confirmed on the Grand Princess cruise ship on March 5 and 6 are attributed to the state of California, but not to any counties. The national numbers also include the 45 people with coronavirus repatriated from the Diamond Princess.\n",
    "\n",
    "USAFacts attempts to match each case with a county, but some cases counted at the state level are not allocated to counties due to lack of information.\n",
    "\n",
    "Data is updated each day.\n",
    "\n",
    "\n",
    "NOTES FROM USAFacts:\n",
    "\n",
    "Note from April 28: On April 14, New York City began a separate count of \"probable deaths\" of people believed to have died as a result of COVID-19, though weren't tested. On April 28, these deaths were retroactively added to our death counts, assigned to a New York City borough if possible. In the future, USAFacts will include \"probable deaths\" in the overall tally if a local government chooses to report that information separately.\n",
    "\n",
    "Note from April 18: Certain states have changed their methodology in reporting deaths due to COVID-19. As a result, we are holding off on reporting death data in a few key states (New York is notable among these states due to the high number of confirmed cases and deaths). USAFacts is committed to providing official numbers confirmed by state or local health agencies, and we will appropriately backfill the death data when we receive more guidance from the CDC and relevant health departments.\n",
    "\n",
    "Note from April 15: In certain states, probable deaths are listed alongside confirmed deaths. Following the lead of the CDC, we will begin publishing death counts that combine these two totals where applicable; this might result in larger than expected increases in deaths in certain counties.\n",
    "\n",
    "Note from March 28: The data now includes all counties regardless of confirmed case count. Additionally, New York City data has been allotted to its five boroughs/counties, where possible.\n",
    "\n",
    "\n",
    "\n",
    "##### There is no missing data."
   ]
  },
  {
   "cell_type": "markdown",
   "metadata": {},
   "source": [
    "#### Import Data"
   ]
  },
  {
   "cell_type": "markdown",
   "metadata": {},
   "source": [
    "To unsure that we always have a copy of the data saved in the environment, every time the data is imported it will be saved."
   ]
  },
  {
   "cell_type": "code",
   "execution_count": 2,
   "metadata": {},
   "outputs": [
    {
     "name": "stdout",
     "output_type": "stream",
     "text": [
      "  % Total    % Received % Xferd  Average Speed   Time    Time     Time  Current\n",
      "                                 Dload  Upload   Total   Spent    Left  Speed\n",
      "100 1383k  100 1383k    0     0  1613k      0 --:--:-- --:--:-- --:--:-- 1611k\n",
      "  % Total    % Received % Xferd  Average Speed   Time    Time     Time  Current\n",
      "                                 Dload  Upload   Total   Spent    Left  Speed\n",
      "100 1150k  100 1150k    0     0  1676k      0 --:--:-- --:--:-- --:--:-- 1674k4k      0  0:00:03 --:--:--  0:00:03  374k\n"
     ]
    }
   ],
   "source": [
    "### Number of confirmed cases by county\n",
    "!curl https://usafactsstatic.blob.core.windows.net/public/data/covid-19/covid_confirmed_usafacts.csv --output data/cases.csv\n",
    "\n",
    "### Number of confirmed deaths by county\n",
    "!curl https://usafactsstatic.blob.core.windows.net/public/data/covid-19/covid_deaths_usafacts.csv --output data/deaths.csv"
   ]
  },
  {
   "cell_type": "markdown",
   "metadata": {},
   "source": [
    "The labeling for counties in the population dataset were unreliable.\n",
    "\n",
    "Created seperate population dataset with naming convention that matches other data frames."
   ]
  },
  {
   "cell_type": "markdown",
   "metadata": {},
   "source": [
    "Now load those datasets."
   ]
  },
  {
   "cell_type": "code",
   "execution_count": 14,
   "metadata": {},
   "outputs": [
    {
     "data": {
      "text/html": [
       "<div>\n",
       "<style scoped>\n",
       "    .dataframe tbody tr th:only-of-type {\n",
       "        vertical-align: middle;\n",
       "    }\n",
       "\n",
       "    .dataframe tbody tr th {\n",
       "        vertical-align: top;\n",
       "    }\n",
       "\n",
       "    .dataframe thead th {\n",
       "        text-align: right;\n",
       "    }\n",
       "</style>\n",
       "<table border=\"1\" class=\"dataframe\">\n",
       "  <thead>\n",
       "    <tr style=\"text-align: right;\">\n",
       "      <th></th>\n",
       "      <th>countyFIPS</th>\n",
       "      <th>County Name</th>\n",
       "      <th>State</th>\n",
       "      <th>stateFIPS</th>\n",
       "      <th>1/22/20</th>\n",
       "      <th>1/23/20</th>\n",
       "      <th>1/24/20</th>\n",
       "      <th>1/25/20</th>\n",
       "      <th>1/26/20</th>\n",
       "      <th>1/27/20</th>\n",
       "      <th>...</th>\n",
       "      <th>6/21/20</th>\n",
       "      <th>6/22/20</th>\n",
       "      <th>6/23/20</th>\n",
       "      <th>6/24/20</th>\n",
       "      <th>6/25/20</th>\n",
       "      <th>6/26/20</th>\n",
       "      <th>6/27/20</th>\n",
       "      <th>6/28/20</th>\n",
       "      <th>6/29/20</th>\n",
       "      <th>6/30/20</th>\n",
       "    </tr>\n",
       "  </thead>\n",
       "  <tbody>\n",
       "    <tr>\n",
       "      <th>0</th>\n",
       "      <td>0</td>\n",
       "      <td>Statewide Unallocated</td>\n",
       "      <td>AL</td>\n",
       "      <td>1</td>\n",
       "      <td>0</td>\n",
       "      <td>0</td>\n",
       "      <td>0</td>\n",
       "      <td>0</td>\n",
       "      <td>0</td>\n",
       "      <td>0</td>\n",
       "      <td>...</td>\n",
       "      <td>0</td>\n",
       "      <td>0</td>\n",
       "      <td>0</td>\n",
       "      <td>0</td>\n",
       "      <td>0</td>\n",
       "      <td>0</td>\n",
       "      <td>0</td>\n",
       "      <td>0</td>\n",
       "      <td>0</td>\n",
       "      <td>0</td>\n",
       "    </tr>\n",
       "    <tr>\n",
       "      <th>1</th>\n",
       "      <td>1001</td>\n",
       "      <td>Autauga County</td>\n",
       "      <td>AL</td>\n",
       "      <td>1</td>\n",
       "      <td>0</td>\n",
       "      <td>0</td>\n",
       "      <td>0</td>\n",
       "      <td>0</td>\n",
       "      <td>0</td>\n",
       "      <td>0</td>\n",
       "      <td>...</td>\n",
       "      <td>434</td>\n",
       "      <td>442</td>\n",
       "      <td>453</td>\n",
       "      <td>469</td>\n",
       "      <td>479</td>\n",
       "      <td>488</td>\n",
       "      <td>498</td>\n",
       "      <td>503</td>\n",
       "      <td>527</td>\n",
       "      <td>537</td>\n",
       "    </tr>\n",
       "    <tr>\n",
       "      <th>2</th>\n",
       "      <td>1003</td>\n",
       "      <td>Baldwin County</td>\n",
       "      <td>AL</td>\n",
       "      <td>1</td>\n",
       "      <td>0</td>\n",
       "      <td>0</td>\n",
       "      <td>0</td>\n",
       "      <td>0</td>\n",
       "      <td>0</td>\n",
       "      <td>0</td>\n",
       "      <td>...</td>\n",
       "      <td>430</td>\n",
       "      <td>437</td>\n",
       "      <td>450</td>\n",
       "      <td>464</td>\n",
       "      <td>477</td>\n",
       "      <td>515</td>\n",
       "      <td>555</td>\n",
       "      <td>575</td>\n",
       "      <td>643</td>\n",
       "      <td>680</td>\n",
       "    </tr>\n",
       "    <tr>\n",
       "      <th>3</th>\n",
       "      <td>1005</td>\n",
       "      <td>Barbour County</td>\n",
       "      <td>AL</td>\n",
       "      <td>1</td>\n",
       "      <td>0</td>\n",
       "      <td>0</td>\n",
       "      <td>0</td>\n",
       "      <td>0</td>\n",
       "      <td>0</td>\n",
       "      <td>0</td>\n",
       "      <td>...</td>\n",
       "      <td>272</td>\n",
       "      <td>277</td>\n",
       "      <td>280</td>\n",
       "      <td>288</td>\n",
       "      <td>305</td>\n",
       "      <td>312</td>\n",
       "      <td>317</td>\n",
       "      <td>317</td>\n",
       "      <td>322</td>\n",
       "      <td>325</td>\n",
       "    </tr>\n",
       "    <tr>\n",
       "      <th>4</th>\n",
       "      <td>1007</td>\n",
       "      <td>Bibb County</td>\n",
       "      <td>AL</td>\n",
       "      <td>1</td>\n",
       "      <td>0</td>\n",
       "      <td>0</td>\n",
       "      <td>0</td>\n",
       "      <td>0</td>\n",
       "      <td>0</td>\n",
       "      <td>0</td>\n",
       "      <td>...</td>\n",
       "      <td>127</td>\n",
       "      <td>129</td>\n",
       "      <td>135</td>\n",
       "      <td>141</td>\n",
       "      <td>149</td>\n",
       "      <td>153</td>\n",
       "      <td>161</td>\n",
       "      <td>162</td>\n",
       "      <td>165</td>\n",
       "      <td>170</td>\n",
       "    </tr>\n",
       "    <tr>\n",
       "      <th>...</th>\n",
       "      <td>...</td>\n",
       "      <td>...</td>\n",
       "      <td>...</td>\n",
       "      <td>...</td>\n",
       "      <td>...</td>\n",
       "      <td>...</td>\n",
       "      <td>...</td>\n",
       "      <td>...</td>\n",
       "      <td>...</td>\n",
       "      <td>...</td>\n",
       "      <td>...</td>\n",
       "      <td>...</td>\n",
       "      <td>...</td>\n",
       "      <td>...</td>\n",
       "      <td>...</td>\n",
       "      <td>...</td>\n",
       "      <td>...</td>\n",
       "      <td>...</td>\n",
       "      <td>...</td>\n",
       "      <td>...</td>\n",
       "      <td>...</td>\n",
       "    </tr>\n",
       "    <tr>\n",
       "      <th>3190</th>\n",
       "      <td>56037</td>\n",
       "      <td>Sweetwater County</td>\n",
       "      <td>WY</td>\n",
       "      <td>56</td>\n",
       "      <td>0</td>\n",
       "      <td>0</td>\n",
       "      <td>0</td>\n",
       "      <td>0</td>\n",
       "      <td>0</td>\n",
       "      <td>0</td>\n",
       "      <td>...</td>\n",
       "      <td>53</td>\n",
       "      <td>56</td>\n",
       "      <td>58</td>\n",
       "      <td>65</td>\n",
       "      <td>73</td>\n",
       "      <td>80</td>\n",
       "      <td>81</td>\n",
       "      <td>82</td>\n",
       "      <td>86</td>\n",
       "      <td>90</td>\n",
       "    </tr>\n",
       "    <tr>\n",
       "      <th>3191</th>\n",
       "      <td>56039</td>\n",
       "      <td>Teton County</td>\n",
       "      <td>WY</td>\n",
       "      <td>56</td>\n",
       "      <td>0</td>\n",
       "      <td>0</td>\n",
       "      <td>0</td>\n",
       "      <td>0</td>\n",
       "      <td>0</td>\n",
       "      <td>0</td>\n",
       "      <td>...</td>\n",
       "      <td>110</td>\n",
       "      <td>111</td>\n",
       "      <td>113</td>\n",
       "      <td>113</td>\n",
       "      <td>118</td>\n",
       "      <td>119</td>\n",
       "      <td>119</td>\n",
       "      <td>123</td>\n",
       "      <td>128</td>\n",
       "      <td>129</td>\n",
       "    </tr>\n",
       "    <tr>\n",
       "      <th>3192</th>\n",
       "      <td>56041</td>\n",
       "      <td>Uinta County</td>\n",
       "      <td>WY</td>\n",
       "      <td>56</td>\n",
       "      <td>0</td>\n",
       "      <td>0</td>\n",
       "      <td>0</td>\n",
       "      <td>0</td>\n",
       "      <td>0</td>\n",
       "      <td>0</td>\n",
       "      <td>...</td>\n",
       "      <td>138</td>\n",
       "      <td>148</td>\n",
       "      <td>152</td>\n",
       "      <td>157</td>\n",
       "      <td>162</td>\n",
       "      <td>166</td>\n",
       "      <td>167</td>\n",
       "      <td>168</td>\n",
       "      <td>174</td>\n",
       "      <td>176</td>\n",
       "    </tr>\n",
       "    <tr>\n",
       "      <th>3193</th>\n",
       "      <td>56043</td>\n",
       "      <td>Washakie County</td>\n",
       "      <td>WY</td>\n",
       "      <td>56</td>\n",
       "      <td>0</td>\n",
       "      <td>0</td>\n",
       "      <td>0</td>\n",
       "      <td>0</td>\n",
       "      <td>0</td>\n",
       "      <td>0</td>\n",
       "      <td>...</td>\n",
       "      <td>39</td>\n",
       "      <td>39</td>\n",
       "      <td>39</td>\n",
       "      <td>39</td>\n",
       "      <td>39</td>\n",
       "      <td>39</td>\n",
       "      <td>39</td>\n",
       "      <td>39</td>\n",
       "      <td>39</td>\n",
       "      <td>39</td>\n",
       "    </tr>\n",
       "    <tr>\n",
       "      <th>3194</th>\n",
       "      <td>56045</td>\n",
       "      <td>Weston County</td>\n",
       "      <td>WY</td>\n",
       "      <td>56</td>\n",
       "      <td>0</td>\n",
       "      <td>0</td>\n",
       "      <td>0</td>\n",
       "      <td>0</td>\n",
       "      <td>0</td>\n",
       "      <td>0</td>\n",
       "      <td>...</td>\n",
       "      <td>1</td>\n",
       "      <td>1</td>\n",
       "      <td>1</td>\n",
       "      <td>1</td>\n",
       "      <td>1</td>\n",
       "      <td>1</td>\n",
       "      <td>1</td>\n",
       "      <td>1</td>\n",
       "      <td>2</td>\n",
       "      <td>2</td>\n",
       "    </tr>\n",
       "  </tbody>\n",
       "</table>\n",
       "<p>3195 rows × 165 columns</p>\n",
       "</div>"
      ],
      "text/plain": [
       "      countyFIPS            County Name State  stateFIPS  1/22/20  1/23/20  \\\n",
       "0              0  Statewide Unallocated    AL          1        0        0   \n",
       "1           1001         Autauga County    AL          1        0        0   \n",
       "2           1003         Baldwin County    AL          1        0        0   \n",
       "3           1005         Barbour County    AL          1        0        0   \n",
       "4           1007            Bibb County    AL          1        0        0   \n",
       "...          ...                    ...   ...        ...      ...      ...   \n",
       "3190       56037      Sweetwater County    WY         56        0        0   \n",
       "3191       56039           Teton County    WY         56        0        0   \n",
       "3192       56041           Uinta County    WY         56        0        0   \n",
       "3193       56043        Washakie County    WY         56        0        0   \n",
       "3194       56045          Weston County    WY         56        0        0   \n",
       "\n",
       "      1/24/20  1/25/20  1/26/20  1/27/20  ...  6/21/20  6/22/20  6/23/20  \\\n",
       "0           0        0        0        0  ...        0        0        0   \n",
       "1           0        0        0        0  ...      434      442      453   \n",
       "2           0        0        0        0  ...      430      437      450   \n",
       "3           0        0        0        0  ...      272      277      280   \n",
       "4           0        0        0        0  ...      127      129      135   \n",
       "...       ...      ...      ...      ...  ...      ...      ...      ...   \n",
       "3190        0        0        0        0  ...       53       56       58   \n",
       "3191        0        0        0        0  ...      110      111      113   \n",
       "3192        0        0        0        0  ...      138      148      152   \n",
       "3193        0        0        0        0  ...       39       39       39   \n",
       "3194        0        0        0        0  ...        1        1        1   \n",
       "\n",
       "      6/24/20  6/25/20  6/26/20  6/27/20  6/28/20  6/29/20  6/30/20  \n",
       "0           0        0        0        0        0        0        0  \n",
       "1         469      479      488      498      503      527      537  \n",
       "2         464      477      515      555      575      643      680  \n",
       "3         288      305      312      317      317      322      325  \n",
       "4         141      149      153      161      162      165      170  \n",
       "...       ...      ...      ...      ...      ...      ...      ...  \n",
       "3190       65       73       80       81       82       86       90  \n",
       "3191      113      118      119      119      123      128      129  \n",
       "3192      157      162      166      167      168      174      176  \n",
       "3193       39       39       39       39       39       39       39  \n",
       "3194        1        1        1        1        1        2        2  \n",
       "\n",
       "[3195 rows x 165 columns]"
      ]
     },
     "execution_count": 14,
     "metadata": {},
     "output_type": "execute_result"
    }
   ],
   "source": [
    "### Total Cases\n",
    "cases = pd.read_csv(\"data/cases.csv\")\n",
    "\n",
    "odd = \"Unnamed: \" + str(len(cases.columns) - 1)\n",
    "\n",
    "if (cases.columns[-1] == odd):\n",
    "    cases = cases.drop(columns = cases.columns[-1])\n",
    "\n",
    "cases"
   ]
  },
  {
   "cell_type": "code",
   "execution_count": 6,
   "metadata": {},
   "outputs": [
    {
     "data": {
      "text/html": [
       "<div>\n",
       "<style scoped>\n",
       "    .dataframe tbody tr th:only-of-type {\n",
       "        vertical-align: middle;\n",
       "    }\n",
       "\n",
       "    .dataframe tbody tr th {\n",
       "        vertical-align: top;\n",
       "    }\n",
       "\n",
       "    .dataframe thead th {\n",
       "        text-align: right;\n",
       "    }\n",
       "</style>\n",
       "<table border=\"1\" class=\"dataframe\">\n",
       "  <thead>\n",
       "    <tr style=\"text-align: right;\">\n",
       "      <th></th>\n",
       "      <th>countyFIPS</th>\n",
       "      <th>County Name</th>\n",
       "      <th>State</th>\n",
       "      <th>stateFIPS</th>\n",
       "      <th>1/22/20</th>\n",
       "      <th>1/23/20</th>\n",
       "      <th>1/24/20</th>\n",
       "      <th>1/25/20</th>\n",
       "      <th>1/26/20</th>\n",
       "      <th>1/27/20</th>\n",
       "      <th>...</th>\n",
       "      <th>6/21/20</th>\n",
       "      <th>6/22/20</th>\n",
       "      <th>6/23/20</th>\n",
       "      <th>6/24/20</th>\n",
       "      <th>6/25/20</th>\n",
       "      <th>6/26/20</th>\n",
       "      <th>6/27/20</th>\n",
       "      <th>6/28/20</th>\n",
       "      <th>6/29/20</th>\n",
       "      <th>6/30/20</th>\n",
       "    </tr>\n",
       "  </thead>\n",
       "  <tbody>\n",
       "    <tr>\n",
       "      <th>0</th>\n",
       "      <td>0</td>\n",
       "      <td>Statewide Unallocated</td>\n",
       "      <td>AL</td>\n",
       "      <td>1</td>\n",
       "      <td>0</td>\n",
       "      <td>0</td>\n",
       "      <td>0</td>\n",
       "      <td>0</td>\n",
       "      <td>0</td>\n",
       "      <td>0</td>\n",
       "      <td>...</td>\n",
       "      <td>0</td>\n",
       "      <td>0</td>\n",
       "      <td>0</td>\n",
       "      <td>0</td>\n",
       "      <td>0</td>\n",
       "      <td>0</td>\n",
       "      <td>0</td>\n",
       "      <td>0</td>\n",
       "      <td>0</td>\n",
       "      <td>0</td>\n",
       "    </tr>\n",
       "    <tr>\n",
       "      <th>1</th>\n",
       "      <td>1001</td>\n",
       "      <td>Autauga County</td>\n",
       "      <td>AL</td>\n",
       "      <td>1</td>\n",
       "      <td>0</td>\n",
       "      <td>0</td>\n",
       "      <td>0</td>\n",
       "      <td>0</td>\n",
       "      <td>0</td>\n",
       "      <td>0</td>\n",
       "      <td>...</td>\n",
       "      <td>9</td>\n",
       "      <td>9</td>\n",
       "      <td>9</td>\n",
       "      <td>11</td>\n",
       "      <td>11</td>\n",
       "      <td>11</td>\n",
       "      <td>12</td>\n",
       "      <td>12</td>\n",
       "      <td>12</td>\n",
       "      <td>12</td>\n",
       "    </tr>\n",
       "    <tr>\n",
       "      <th>2</th>\n",
       "      <td>1003</td>\n",
       "      <td>Baldwin County</td>\n",
       "      <td>AL</td>\n",
       "      <td>1</td>\n",
       "      <td>0</td>\n",
       "      <td>0</td>\n",
       "      <td>0</td>\n",
       "      <td>0</td>\n",
       "      <td>0</td>\n",
       "      <td>0</td>\n",
       "      <td>...</td>\n",
       "      <td>9</td>\n",
       "      <td>9</td>\n",
       "      <td>9</td>\n",
       "      <td>9</td>\n",
       "      <td>9</td>\n",
       "      <td>9</td>\n",
       "      <td>10</td>\n",
       "      <td>10</td>\n",
       "      <td>10</td>\n",
       "      <td>10</td>\n",
       "    </tr>\n",
       "    <tr>\n",
       "      <th>3</th>\n",
       "      <td>1005</td>\n",
       "      <td>Barbour County</td>\n",
       "      <td>AL</td>\n",
       "      <td>1</td>\n",
       "      <td>0</td>\n",
       "      <td>0</td>\n",
       "      <td>0</td>\n",
       "      <td>0</td>\n",
       "      <td>0</td>\n",
       "      <td>0</td>\n",
       "      <td>...</td>\n",
       "      <td>1</td>\n",
       "      <td>1</td>\n",
       "      <td>1</td>\n",
       "      <td>1</td>\n",
       "      <td>1</td>\n",
       "      <td>1</td>\n",
       "      <td>1</td>\n",
       "      <td>1</td>\n",
       "      <td>1</td>\n",
       "      <td>1</td>\n",
       "    </tr>\n",
       "    <tr>\n",
       "      <th>4</th>\n",
       "      <td>1007</td>\n",
       "      <td>Bibb County</td>\n",
       "      <td>AL</td>\n",
       "      <td>1</td>\n",
       "      <td>0</td>\n",
       "      <td>0</td>\n",
       "      <td>0</td>\n",
       "      <td>0</td>\n",
       "      <td>0</td>\n",
       "      <td>0</td>\n",
       "      <td>...</td>\n",
       "      <td>1</td>\n",
       "      <td>1</td>\n",
       "      <td>1</td>\n",
       "      <td>1</td>\n",
       "      <td>1</td>\n",
       "      <td>1</td>\n",
       "      <td>1</td>\n",
       "      <td>1</td>\n",
       "      <td>1</td>\n",
       "      <td>1</td>\n",
       "    </tr>\n",
       "    <tr>\n",
       "      <th>...</th>\n",
       "      <td>...</td>\n",
       "      <td>...</td>\n",
       "      <td>...</td>\n",
       "      <td>...</td>\n",
       "      <td>...</td>\n",
       "      <td>...</td>\n",
       "      <td>...</td>\n",
       "      <td>...</td>\n",
       "      <td>...</td>\n",
       "      <td>...</td>\n",
       "      <td>...</td>\n",
       "      <td>...</td>\n",
       "      <td>...</td>\n",
       "      <td>...</td>\n",
       "      <td>...</td>\n",
       "      <td>...</td>\n",
       "      <td>...</td>\n",
       "      <td>...</td>\n",
       "      <td>...</td>\n",
       "      <td>...</td>\n",
       "      <td>...</td>\n",
       "    </tr>\n",
       "    <tr>\n",
       "      <th>3190</th>\n",
       "      <td>56037</td>\n",
       "      <td>Sweetwater County</td>\n",
       "      <td>WY</td>\n",
       "      <td>56</td>\n",
       "      <td>0</td>\n",
       "      <td>0</td>\n",
       "      <td>0</td>\n",
       "      <td>0</td>\n",
       "      <td>0</td>\n",
       "      <td>0</td>\n",
       "      <td>...</td>\n",
       "      <td>0</td>\n",
       "      <td>0</td>\n",
       "      <td>0</td>\n",
       "      <td>0</td>\n",
       "      <td>0</td>\n",
       "      <td>0</td>\n",
       "      <td>0</td>\n",
       "      <td>0</td>\n",
       "      <td>0</td>\n",
       "      <td>0</td>\n",
       "    </tr>\n",
       "    <tr>\n",
       "      <th>3191</th>\n",
       "      <td>56039</td>\n",
       "      <td>Teton County</td>\n",
       "      <td>WY</td>\n",
       "      <td>56</td>\n",
       "      <td>0</td>\n",
       "      <td>0</td>\n",
       "      <td>0</td>\n",
       "      <td>0</td>\n",
       "      <td>0</td>\n",
       "      <td>0</td>\n",
       "      <td>...</td>\n",
       "      <td>1</td>\n",
       "      <td>1</td>\n",
       "      <td>1</td>\n",
       "      <td>1</td>\n",
       "      <td>1</td>\n",
       "      <td>1</td>\n",
       "      <td>1</td>\n",
       "      <td>1</td>\n",
       "      <td>1</td>\n",
       "      <td>1</td>\n",
       "    </tr>\n",
       "    <tr>\n",
       "      <th>3192</th>\n",
       "      <td>56041</td>\n",
       "      <td>Uinta County</td>\n",
       "      <td>WY</td>\n",
       "      <td>56</td>\n",
       "      <td>0</td>\n",
       "      <td>0</td>\n",
       "      <td>0</td>\n",
       "      <td>0</td>\n",
       "      <td>0</td>\n",
       "      <td>0</td>\n",
       "      <td>...</td>\n",
       "      <td>0</td>\n",
       "      <td>0</td>\n",
       "      <td>0</td>\n",
       "      <td>0</td>\n",
       "      <td>0</td>\n",
       "      <td>0</td>\n",
       "      <td>0</td>\n",
       "      <td>0</td>\n",
       "      <td>0</td>\n",
       "      <td>0</td>\n",
       "    </tr>\n",
       "    <tr>\n",
       "      <th>3193</th>\n",
       "      <td>56043</td>\n",
       "      <td>Washakie County</td>\n",
       "      <td>WY</td>\n",
       "      <td>56</td>\n",
       "      <td>0</td>\n",
       "      <td>0</td>\n",
       "      <td>0</td>\n",
       "      <td>0</td>\n",
       "      <td>0</td>\n",
       "      <td>0</td>\n",
       "      <td>...</td>\n",
       "      <td>5</td>\n",
       "      <td>5</td>\n",
       "      <td>5</td>\n",
       "      <td>5</td>\n",
       "      <td>5</td>\n",
       "      <td>5</td>\n",
       "      <td>5</td>\n",
       "      <td>5</td>\n",
       "      <td>5</td>\n",
       "      <td>5</td>\n",
       "    </tr>\n",
       "    <tr>\n",
       "      <th>3194</th>\n",
       "      <td>56045</td>\n",
       "      <td>Weston County</td>\n",
       "      <td>WY</td>\n",
       "      <td>56</td>\n",
       "      <td>0</td>\n",
       "      <td>0</td>\n",
       "      <td>0</td>\n",
       "      <td>0</td>\n",
       "      <td>0</td>\n",
       "      <td>0</td>\n",
       "      <td>...</td>\n",
       "      <td>0</td>\n",
       "      <td>0</td>\n",
       "      <td>0</td>\n",
       "      <td>0</td>\n",
       "      <td>0</td>\n",
       "      <td>0</td>\n",
       "      <td>0</td>\n",
       "      <td>0</td>\n",
       "      <td>0</td>\n",
       "      <td>0</td>\n",
       "    </tr>\n",
       "  </tbody>\n",
       "</table>\n",
       "<p>3195 rows × 165 columns</p>\n",
       "</div>"
      ],
      "text/plain": [
       "      countyFIPS            County Name State  stateFIPS  1/22/20  1/23/20  \\\n",
       "0              0  Statewide Unallocated    AL          1        0        0   \n",
       "1           1001         Autauga County    AL          1        0        0   \n",
       "2           1003         Baldwin County    AL          1        0        0   \n",
       "3           1005         Barbour County    AL          1        0        0   \n",
       "4           1007            Bibb County    AL          1        0        0   \n",
       "...          ...                    ...   ...        ...      ...      ...   \n",
       "3190       56037      Sweetwater County    WY         56        0        0   \n",
       "3191       56039           Teton County    WY         56        0        0   \n",
       "3192       56041           Uinta County    WY         56        0        0   \n",
       "3193       56043        Washakie County    WY         56        0        0   \n",
       "3194       56045          Weston County    WY         56        0        0   \n",
       "\n",
       "      1/24/20  1/25/20  1/26/20  1/27/20  ...  6/21/20  6/22/20  6/23/20  \\\n",
       "0           0        0        0        0  ...        0        0        0   \n",
       "1           0        0        0        0  ...        9        9        9   \n",
       "2           0        0        0        0  ...        9        9        9   \n",
       "3           0        0        0        0  ...        1        1        1   \n",
       "4           0        0        0        0  ...        1        1        1   \n",
       "...       ...      ...      ...      ...  ...      ...      ...      ...   \n",
       "3190        0        0        0        0  ...        0        0        0   \n",
       "3191        0        0        0        0  ...        1        1        1   \n",
       "3192        0        0        0        0  ...        0        0        0   \n",
       "3193        0        0        0        0  ...        5        5        5   \n",
       "3194        0        0        0        0  ...        0        0        0   \n",
       "\n",
       "      6/24/20  6/25/20  6/26/20  6/27/20  6/28/20  6/29/20  6/30/20  \n",
       "0           0        0        0        0        0        0        0  \n",
       "1          11       11       11       12       12       12       12  \n",
       "2           9        9        9       10       10       10       10  \n",
       "3           1        1        1        1        1        1        1  \n",
       "4           1        1        1        1        1        1        1  \n",
       "...       ...      ...      ...      ...      ...      ...      ...  \n",
       "3190        0        0        0        0        0        0        0  \n",
       "3191        1        1        1        1        1        1        1  \n",
       "3192        0        0        0        0        0        0        0  \n",
       "3193        5        5        5        5        5        5        5  \n",
       "3194        0        0        0        0        0        0        0  \n",
       "\n",
       "[3195 rows x 165 columns]"
      ]
     },
     "execution_count": 6,
     "metadata": {},
     "output_type": "execute_result"
    }
   ],
   "source": [
    "### Total Deaths\n",
    "deaths = pd.read_csv(\"data/deaths.csv\")\n",
    "deaths"
   ]
  },
  {
   "cell_type": "code",
   "execution_count": 7,
   "metadata": {},
   "outputs": [
    {
     "data": {
      "text/html": [
       "<div>\n",
       "<style scoped>\n",
       "    .dataframe tbody tr th:only-of-type {\n",
       "        vertical-align: middle;\n",
       "    }\n",
       "\n",
       "    .dataframe tbody tr th {\n",
       "        vertical-align: top;\n",
       "    }\n",
       "\n",
       "    .dataframe thead th {\n",
       "        text-align: right;\n",
       "    }\n",
       "</style>\n",
       "<table border=\"1\" class=\"dataframe\">\n",
       "  <thead>\n",
       "    <tr style=\"text-align: right;\">\n",
       "      <th></th>\n",
       "      <th>County Name</th>\n",
       "      <th>Population</th>\n",
       "      <th>countyFIPS</th>\n",
       "    </tr>\n",
       "  </thead>\n",
       "  <tbody>\n",
       "    <tr>\n",
       "      <th>0</th>\n",
       "      <td>Statewide Unallocated</td>\n",
       "      <td>0</td>\n",
       "      <td>0</td>\n",
       "    </tr>\n",
       "    <tr>\n",
       "      <th>1</th>\n",
       "      <td>Autauga</td>\n",
       "      <td>55869</td>\n",
       "      <td>1001</td>\n",
       "    </tr>\n",
       "    <tr>\n",
       "      <th>2</th>\n",
       "      <td>Baldwin</td>\n",
       "      <td>223234</td>\n",
       "      <td>1003</td>\n",
       "    </tr>\n",
       "    <tr>\n",
       "      <th>3</th>\n",
       "      <td>Barbour</td>\n",
       "      <td>24686</td>\n",
       "      <td>1005</td>\n",
       "    </tr>\n",
       "    <tr>\n",
       "      <th>4</th>\n",
       "      <td>Bibb</td>\n",
       "      <td>22394</td>\n",
       "      <td>1007</td>\n",
       "    </tr>\n",
       "    <tr>\n",
       "      <th>...</th>\n",
       "      <td>...</td>\n",
       "      <td>...</td>\n",
       "      <td>...</td>\n",
       "    </tr>\n",
       "    <tr>\n",
       "      <th>3138</th>\n",
       "      <td>Sweetwater</td>\n",
       "      <td>42343</td>\n",
       "      <td>56037</td>\n",
       "    </tr>\n",
       "    <tr>\n",
       "      <th>3139</th>\n",
       "      <td>Teton</td>\n",
       "      <td>23464</td>\n",
       "      <td>56039</td>\n",
       "    </tr>\n",
       "    <tr>\n",
       "      <th>3140</th>\n",
       "      <td>Uinta</td>\n",
       "      <td>20226</td>\n",
       "      <td>56041</td>\n",
       "    </tr>\n",
       "    <tr>\n",
       "      <th>3141</th>\n",
       "      <td>Washakie</td>\n",
       "      <td>7805</td>\n",
       "      <td>56043</td>\n",
       "    </tr>\n",
       "    <tr>\n",
       "      <th>3142</th>\n",
       "      <td>Weston</td>\n",
       "      <td>6927</td>\n",
       "      <td>56045</td>\n",
       "    </tr>\n",
       "  </tbody>\n",
       "</table>\n",
       "<p>3143 rows × 3 columns</p>\n",
       "</div>"
      ],
      "text/plain": [
       "                County Name  Population  countyFIPS\n",
       "0     Statewide Unallocated           0           0\n",
       "1                  Autauga        55869        1001\n",
       "2                  Baldwin       223234        1003\n",
       "3                  Barbour        24686        1005\n",
       "4                     Bibb        22394        1007\n",
       "...                     ...         ...         ...\n",
       "3138            Sweetwater        42343       56037\n",
       "3139                 Teton        23464       56039\n",
       "3140                 Uinta        20226       56041\n",
       "3141              Washakie         7805       56043\n",
       "3142                Weston         6927       56045\n",
       "\n",
       "[3143 rows x 3 columns]"
      ]
     },
     "execution_count": 7,
     "metadata": {},
     "output_type": "execute_result"
    }
   ],
   "source": [
    "### Total Population\n",
    "population = pd.read_csv(\"data/population.csv\")\n",
    "population"
   ]
  },
  {
   "cell_type": "markdown",
   "metadata": {},
   "source": [
    "### Fixing Errors\n",
    "In the cases and deaths dataframes, certain obervations need to be removed.\n",
    "\n",
    "1: Wade Hampton Census Area, Alaska. This area no longer exists. Was renamed to Kusilvak Census Area.\n",
    "\n",
    "2: New York City Unallocated/Probable. This is not a county. Observations for the NYC area are covered by the 5 counties of the metropolitan area.\n",
    "\n",
    "3: Grand Princess Cruise Ship. This is a cruise ship, not a county, and these cases are attributed to California."
   ]
  },
  {
   "cell_type": "code",
   "execution_count": null,
   "metadata": {},
   "outputs": [],
   "source": [
    "#### County Data\n",
    "\n",
    "### Remove Wade Hampton Area\n",
    "cases = cases.drop(list(cases[cases[\"County Name\"] == \"Wade Hampton Census Area\"].index))\n",
    "\n",
    "### New York City Unallocated/Probable\n",
    "cases = cases.drop(list(cases[cases[\"County Name\"] == \"New York City Unallocated/Probable\"].index))\n",
    "\n",
    "### Remove Grand Princess Cruise Ship\n",
    "cases = cases.drop(list(cases[cases[\"County Name\"] == \"Grand Princess Cruise Ship\"].index))\n",
    "\n",
    "\n",
    "#### Deaths Data\n",
    "### Remove Wade Hampton Area\n",
    "deaths = deaths.drop(list(deaths[deaths[\"County Name\"] == \"Wade Hampton Census Area\"].index))\n",
    "\n",
    "### New York City Unallocated/Probable\n",
    "deaths = deaths.drop(list(deaths[deaths[\"County Name\"] == \"New York City Unallocated/Probable\"].index))\n",
    "\n",
    "### Remove Grand Princess Cruise Ship\n",
    "deaths = deaths.drop(list(deaths[deaths[\"County Name\"] == \"Grand Princess Cruise Ship\"].index))"
   ]
  },
  {
   "cell_type": "code",
   "execution_count": null,
   "metadata": {},
   "outputs": [],
   "source": [
    "cases"
   ]
  },
  {
   "cell_type": "code",
   "execution_count": null,
   "metadata": {},
   "outputs": [],
   "source": [
    "deaths"
   ]
  },
  {
   "cell_type": "markdown",
   "metadata": {},
   "source": [
    " "
   ]
  },
  {
   "cell_type": "markdown",
   "metadata": {},
   "source": [
    "### Prep Data"
   ]
  },
  {
   "cell_type": "markdown",
   "metadata": {},
   "source": [
    "#### Ensuring Labels"
   ]
  },
  {
   "cell_type": "markdown",
   "metadata": {},
   "source": [
    "To ensure that county and state labels are the same across dataframes, replace them with labels in FIPS.csv\n",
    "\n",
    "Bring in FIPS data"
   ]
  },
  {
   "cell_type": "code",
   "execution_count": null,
   "metadata": {},
   "outputs": [],
   "source": [
    "### County FIPS\n",
    "countyFIPS = pd.read_csv(\"data/countyFIPS.csv\")\n",
    "countyFIPS"
   ]
  },
  {
   "cell_type": "code",
   "execution_count": null,
   "metadata": {},
   "outputs": [],
   "source": [
    "### State FIPS\n",
    "stateFIPS = pd.read_csv(\"data/stateFIPS.csv\")\n",
    "stateFIPS"
   ]
  },
  {
   "cell_type": "markdown",
   "metadata": {},
   "source": [
    " "
   ]
  },
  {
   "cell_type": "markdown",
   "metadata": {},
   "source": [
    "##### Fixing Cases Labels"
   ]
  },
  {
   "cell_type": "code",
   "execution_count": null,
   "metadata": {},
   "outputs": [],
   "source": [
    "### Drop cases county labels\n",
    "cases = cases.drop(columns = \"County Name\")\n",
    "cases"
   ]
  },
  {
   "cell_type": "code",
   "execution_count": null,
   "metadata": {},
   "outputs": [],
   "source": [
    "### Add County Name from countyFIPS\n",
    "cases = cases.merge(countyFIPS, how = \"left\")\n",
    "cases"
   ]
  },
  {
   "cell_type": "code",
   "execution_count": null,
   "metadata": {},
   "outputs": [],
   "source": [
    "### Drop cases state labels\n",
    "cases = cases.drop(columns = \"State\")\n",
    "cases"
   ]
  },
  {
   "cell_type": "code",
   "execution_count": null,
   "metadata": {},
   "outputs": [],
   "source": [
    "### Add State names from stateFIPS\n",
    "cases = cases.merge(stateFIPS, how = \"left\")\n",
    "cases"
   ]
  },
  {
   "cell_type": "markdown",
   "metadata": {},
   "source": [
    " "
   ]
  },
  {
   "cell_type": "markdown",
   "metadata": {},
   "source": [
    "##### Fixing Deaths Labels"
   ]
  },
  {
   "cell_type": "code",
   "execution_count": null,
   "metadata": {},
   "outputs": [],
   "source": [
    "### Drop deaths county labels\n",
    "deaths = deaths.drop(columns = \"County Name\")\n",
    "deaths"
   ]
  },
  {
   "cell_type": "code",
   "execution_count": null,
   "metadata": {},
   "outputs": [],
   "source": [
    "### Add County Name from countyFIPS\n",
    "deaths = deaths.merge(countyFIPS, how = \"left\")\n",
    "deaths"
   ]
  },
  {
   "cell_type": "code",
   "execution_count": null,
   "metadata": {},
   "outputs": [],
   "source": [
    "### Drop deaths state labels\n",
    "deaths = deaths.drop(columns = \"State\")\n",
    "deaths"
   ]
  },
  {
   "cell_type": "code",
   "execution_count": null,
   "metadata": {},
   "outputs": [],
   "source": [
    "### Add State names from stateFIPS\n",
    "deaths = deaths.merge(stateFIPS, how = \"left\")\n",
    "deaths"
   ]
  },
  {
   "cell_type": "markdown",
   "metadata": {},
   "source": [
    " "
   ]
  },
  {
   "cell_type": "markdown",
   "metadata": {},
   "source": [
    "##### Fixing Population Labels"
   ]
  },
  {
   "cell_type": "code",
   "execution_count": null,
   "metadata": {},
   "outputs": [],
   "source": [
    "### Drop population county and state labels\n",
    "population = population.drop(columns = \"County Name\")\n",
    "population"
   ]
  },
  {
   "cell_type": "code",
   "execution_count": null,
   "metadata": {},
   "outputs": [],
   "source": [
    "### Add County Name from countyFIPS\n",
    "population = population.merge(countyFIPS, how = \"left\")\n",
    "population"
   ]
  },
  {
   "cell_type": "markdown",
   "metadata": {},
   "source": [
    " "
   ]
  },
  {
   "cell_type": "markdown",
   "metadata": {},
   "source": [
    "Turns out that the “Statewide Unallocated” data means that those measurements are correct, they just haven’t been assigned a county due to lack of information. \n",
    "\n",
    "Leave these observations out of the county dataframe, but included them in creating state dataframe."
   ]
  },
  {
   "cell_type": "markdown",
   "metadata": {},
   "source": [
    "#### County Level Data"
   ]
  },
  {
   "cell_type": "markdown",
   "metadata": {},
   "source": [
    "The cases and deaths data is in a less usable form.\n",
    "\n",
    "Unpivot the data using pd.melt to make the data more usable."
   ]
  },
  {
   "cell_type": "code",
   "execution_count": null,
   "metadata": {},
   "outputs": [],
   "source": [
    "### Unpivot cases data\n",
    "cases = pd.melt(cases, id_vars = ['County Name', \"State\", \"countyFIPS\", \"stateFIPS\"],\n",
    "                 value_vars = cases.columns[2:-2],\n",
    "                 var_name = \"Date\", value_name = \"Cases\")\n",
    "\n",
    "cases"
   ]
  },
  {
   "cell_type": "code",
   "execution_count": null,
   "metadata": {},
   "outputs": [],
   "source": [
    "### Unpivot death data\n",
    "deaths = pd.melt(deaths, id_vars = ['County Name', \"State\", \"countyFIPS\", \"stateFIPS\"],\n",
    "                 value_vars = list(deaths.columns[2:-2]),\n",
    "                 var_name = \"Date\", value_name = \"Deaths\")\n",
    "\n",
    "deaths"
   ]
  },
  {
   "cell_type": "markdown",
   "metadata": {},
   "source": [
    "Combine cases and deaths into one data frame."
   ]
  },
  {
   "cell_type": "code",
   "execution_count": null,
   "metadata": {},
   "outputs": [],
   "source": [
    "### Merge dataframes\n",
    "cases_deaths = cases.merge(deaths, on = [\"State\",\"County Name\", \"Date\", \"countyFIPS\", \"stateFIPS\"])\n",
    "cases_deaths"
   ]
  },
  {
   "cell_type": "markdown",
   "metadata": {},
   "source": [
    "Add population to cases_deaths."
   ]
  },
  {
   "cell_type": "code",
   "execution_count": null,
   "metadata": {},
   "outputs": [],
   "source": [
    "### Merge dataframes\n",
    "cases_deaths = cases_deaths.merge(population, on = [\"countyFIPS\",\"County Name\"], how = \"left\")\n",
    "\n",
    "### Sort\n",
    "cases_deaths = cases_deaths.astype({\"Date\" : \"datetime64\"})\n",
    "cases_deaths = cases_deaths.sort_values([\"State\",\"County Name\",\"Date\"], ascending = [True, True, True])\n",
    "\n",
    "\n",
    "### Rename population and cases\n",
    "cases_deaths = cases_deaths.rename(columns = {\"Cases\" : \"Total Cases\",\n",
    "                                              \"Deaths\" : \"Total Deaths\"})\n",
    "\n",
    "cases_deaths = cases_deaths.reset_index().drop(columns = \"index\")\n",
    "cases_deaths"
   ]
  },
  {
   "cell_type": "markdown",
   "metadata": {},
   "source": [
    "Use multiprocessing to: \n",
    "1) Calculate the number of new cases each day.\n",
    "\n",
    "2) Calculate the number of new deaths each day."
   ]
  },
  {
   "cell_type": "code",
   "execution_count": null,
   "metadata": {},
   "outputs": [],
   "source": [
    "### Import Pool from multiprocessing\n",
    "from multiprocessing import Pool"
   ]
  },
  {
   "cell_type": "code",
   "execution_count": null,
   "metadata": {},
   "outputs": [],
   "source": [
    "### Create a parallelizing function\n",
    "def parallel(data, func, n_cores = 4):\n",
    "    data_split = np.array_split(data, n_cores)\n",
    "    pool = Pool(n_cores)\n",
    "    data = pd.concat(pool.map(func, data_split))\n",
    "    pool.close()\n",
    "    pool.join()\n",
    "    return data"
   ]
  },
  {
   "cell_type": "code",
   "execution_count": null,
   "metadata": {},
   "outputs": [],
   "source": [
    "### Define function to create new cases data\n",
    "def newCases(data):\n",
    "    changeInCases = []\n",
    "    ### For each state.\n",
    "    for state in data[\"State\"].unique():\n",
    "        ### For each county in the state\n",
    "        for county in data[\"County Name\"][data[\"State\"] == state].unique():\n",
    "            changeInCases.append(0) ### Add first date diff which is 0.\n",
    "            ### Add diff in case for each following day\n",
    "            changeInCases.extend(abs(np.diff(data[\"Total Cases\"][(data[\"County Name\"] == county) &\n",
    "                                                                         (data[\"State\"] == state)])))\n",
    "    ### Add to data\n",
    "    data[\"New Cases\"] = changeInCases\n",
    "\n",
    "    return data"
   ]
  },
  {
   "cell_type": "code",
   "execution_count": null,
   "metadata": {},
   "outputs": [],
   "source": [
    "cases_deaths = parallel(cases_deaths, newCases)\n",
    "cases_deaths"
   ]
  },
  {
   "cell_type": "code",
   "execution_count": null,
   "metadata": {},
   "outputs": [],
   "source": [
    "### Define function to create new deaths data\n",
    "def newDeaths(data):\n",
    "    changeInDeaths = []\n",
    "    ### For each state.\n",
    "    for state in data[\"State\"].unique():\n",
    "        ### For each county in the state\n",
    "        for county in data[\"County Name\"][data[\"State\"] == state].unique():\n",
    "            changeInDeaths.append(0) ### Add first date diff which is 0.\n",
    "            ### Add diff in case for each following day\n",
    "            changeInDeaths.extend(abs(np.diff(data[\"Total Deaths\"][(data[\"County Name\"] == county) &\n",
    "                                                                           (data[\"State\"] == state)])))\n",
    "            \n",
    "    ### Add to data\n",
    "    data[\"New Deaths\"] = changeInDeaths\n",
    "        \n",
    "    return data"
   ]
  },
  {
   "cell_type": "code",
   "execution_count": null,
   "metadata": {},
   "outputs": [],
   "source": [
    "cases_deaths = parallel(cases_deaths, newDeaths)\n",
    "cases_deaths"
   ]
  },
  {
   "cell_type": "markdown",
   "metadata": {},
   "source": [
    "Change data types for County Name and State."
   ]
  },
  {
   "cell_type": "code",
   "execution_count": null,
   "metadata": {},
   "outputs": [],
   "source": [
    "cases_deaths.info()"
   ]
  },
  {
   "cell_type": "code",
   "execution_count": null,
   "metadata": {},
   "outputs": [],
   "source": [
    "cases_deaths = cases_deaths.astype({\"County Name\" : \"category\",\n",
    "                                    \"State\" : \"category\",\n",
    "                                    \"countyFIPS\" : \"str\",\n",
    "                                    \"stateFIPS\" : \"str\"})\n",
    "cases_deaths.info()"
   ]
  },
  {
   "cell_type": "markdown",
   "metadata": {},
   "source": [
    "Now make a new data frame without \"Statewide Unallocated.\""
   ]
  },
  {
   "cell_type": "code",
   "execution_count": null,
   "metadata": {},
   "outputs": [],
   "source": [
    "cases_deaths2 = cases_deaths[cases_deaths[\"County Name\"] != \"Statewide Unallocated\"]\n",
    "cases_deaths2 = cases_deaths2.reset_index()\n",
    "cases_deaths2 = cases_deaths2.drop(columns = \"index\")\n",
    "cases_deaths2"
   ]
  },
  {
   "cell_type": "markdown",
   "metadata": {},
   "source": [
    "##### Fixing countyFIPS labels"
   ]
  },
  {
   "cell_type": "markdown",
   "metadata": {},
   "source": [
    "The first 6 states (Alabama, Alaska, Arizona, Arkansas, California, Colorado, Connecticut) have countyFIPS codes that need to start with 0."
   ]
  },
  {
   "cell_type": "markdown",
   "metadata": {},
   "source": [
    "Extract the first 6 states."
   ]
  },
  {
   "cell_type": "code",
   "execution_count": null,
   "metadata": {},
   "outputs": [],
   "source": [
    "### First six states end where DC begins\n",
    "firstSix = cases_deaths2[:list(cases_deaths2[\"countyFIPS\"][cases_deaths2[\"State\"] == \"DC\"].index)[0]]\n",
    "firstSix"
   ]
  },
  {
   "cell_type": "markdown",
   "metadata": {},
   "source": [
    "Fix FIPS codes."
   ]
  },
  {
   "cell_type": "code",
   "execution_count": null,
   "metadata": {},
   "outputs": [],
   "source": [
    "### Create a new column with the fixed FIPS codes\n",
    "firstSix.insert(2,\"countyFIPS2\", '0' + firstSix[\"countyFIPS\"])\n",
    "firstSix"
   ]
  },
  {
   "cell_type": "code",
   "execution_count": null,
   "metadata": {},
   "outputs": [],
   "source": [
    "### Drop the old FIPS codes and rename the new FIPS codes column\n",
    "firstSix = firstSix.drop(columns = \"countyFIPS\")\n",
    "firstSix = firstSix.rename(columns = {\"countyFIPS2\" : \"countyFIPS\"})\n",
    "firstSix"
   ]
  },
  {
   "cell_type": "markdown",
   "metadata": {},
   "source": [
    "Now drop the first six states in cases_deaths2 and stack firstSix on top."
   ]
  },
  {
   "cell_type": "code",
   "execution_count": null,
   "metadata": {},
   "outputs": [],
   "source": [
    "firstSixIndex = np.arange(start = 0, stop = list(cases_deaths2[\"countyFIPS\"][cases_deaths2[\"State\"] == \"DC\"].index)[0])\n",
    "cases_deaths2 = cases_deaths2.drop(firstSixIndex)\n",
    "cases_deaths2"
   ]
  },
  {
   "cell_type": "code",
   "execution_count": null,
   "metadata": {},
   "outputs": [],
   "source": [
    "cases_deaths2 = pd.concat([firstSix,cases_deaths2])\n",
    "cases_deaths2"
   ]
  },
  {
   "cell_type": "code",
   "execution_count": null,
   "metadata": {},
   "outputs": [],
   "source": [
    "cases_deaths2.info()"
   ]
  },
  {
   "cell_type": "markdown",
   "metadata": {},
   "source": [
    "### State Level Data"
   ]
  },
  {
   "cell_type": "markdown",
   "metadata": {},
   "source": [
    "Now create a data frame that summarizes the data for each state."
   ]
  },
  {
   "cell_type": "code",
   "execution_count": null,
   "metadata": {},
   "outputs": [],
   "source": [
    "### First for Alabama\n",
    "### Aggregate data\n",
    "StateData = cases_deaths[cases_deaths['State'] == \"Alabama\"].groupby(\"Date\").agg(\n",
    "        TotalCases = pd.NamedAgg(column = \"Total Cases\", aggfunc = sum),\n",
    "        TotalDeaths = pd.NamedAgg(column = \"Total Deaths\", aggfunc = sum),\n",
    "        Population = pd.NamedAgg(column = \"Population\", aggfunc = sum),\n",
    "        NewCases = pd.NamedAgg(column = \"New Cases\", aggfunc = sum),\n",
    "        NewDeaths = pd.NamedAgg(column = \"New Deaths\", aggfunc = sum))\n",
    "\n",
    "### Make a vector of the state and its FIPS\n",
    "state = np.repeat(\"Alabama\", len(cases_deaths[\"Date\"].unique()))\n",
    "statefips = np.repeat('1', len(cases_deaths[\"Date\"].unique()))\n",
    "\n",
    "### Grab dates\n",
    "date = cases_deaths[\"Date\"].unique()\n",
    "\n",
    "### Insert into State Data\n",
    "StateData.insert(0, \"stateFIPS\", statefips)\n",
    "StateData.insert(0, \"State\", state)\n",
    "StateData.insert(0, \"Date\", date)\n",
    "\n",
    "### Now the rest\n",
    "for state, fipsNum in zip(cases_deaths[\"State\"].unique()[1:], cases_deaths[\"stateFIPS\"].unique()[1:]) :\n",
    "    ### Aggregate data\n",
    "    myStateData = cases_deaths[cases_deaths['State'] == state].groupby(\"Date\").agg(\n",
    "        TotalCases = pd.NamedAgg(column = \"Total Cases\", aggfunc = sum),\n",
    "        TotalDeaths = pd.NamedAgg(column = \"Total Deaths\", aggfunc = sum),\n",
    "        Population = pd.NamedAgg(column = \"Population\", aggfunc = sum),\n",
    "        NewCases = pd.NamedAgg(column = \"New Cases\", aggfunc = sum),\n",
    "        NewDeaths = pd.NamedAgg(column = \"New Deaths\", aggfunc = sum))\n",
    "    \n",
    "    ### Make a vector of the state/fips and grab dates\n",
    "    mystate = np.repeat(state, len(cases_deaths[\"Date\"].unique()))\n",
    "    mystatefips = np.repeat(fipsNum, len(cases_deaths[\"Date\"].unique()))\n",
    "    mydate = cases_deaths[\"Date\"].unique()\n",
    "    \n",
    "    ### Insert data\n",
    "    myStateData.insert(0, \"stateFIPS\", mystatefips)\n",
    "    myStateData.insert(0, \"State\", state)\n",
    "    myStateData.insert(0, \"Date\", date)\n",
    "    \n",
    "    ### Stack state datas\n",
    "    StateData = pd.concat([StateData, myStateData])\n",
    "\n",
    "### Reset indicies\n",
    "StateData = StateData.set_index(np.arange(0,len(StateData)))"
   ]
  },
  {
   "cell_type": "code",
   "execution_count": null,
   "metadata": {},
   "outputs": [],
   "source": [
    "StateData"
   ]
  },
  {
   "cell_type": "markdown",
   "metadata": {},
   "source": [
    "### USA Level Data"
   ]
  },
  {
   "cell_type": "markdown",
   "metadata": {},
   "source": [
    "Now create a data set for the USA."
   ]
  },
  {
   "cell_type": "code",
   "execution_count": null,
   "metadata": {},
   "outputs": [],
   "source": [
    "### First for date\n",
    "### Aggregate data\n",
    "USAData = StateData[StateData['Date'] == StateData[\"Date\"].unique()[0]].groupby(\"Date\").agg(\n",
    "        TotalCases = pd.NamedAgg(column = \"TotalCases\", aggfunc = sum),\n",
    "        TotalDeaths = pd.NamedAgg(column = \"TotalDeaths\", aggfunc = sum),\n",
    "        Population = pd.NamedAgg(column = \"Population\", aggfunc = sum),\n",
    "        NewCases = pd.NamedAgg(column = \"NewCases\", aggfunc = sum),\n",
    "        NewDeaths = pd.NamedAgg(column = \"NewDeaths\", aggfunc = sum))\n",
    "\n",
    "### Insert into usaData\n",
    "USAData.insert(0, \"Date\", StateData[\"Date\"].unique()[0])\n",
    "USAData.insert(0, \"Country\", \"United States\")\n",
    "\n",
    "\n",
    "### For the rest of dates\n",
    "for day in StateData[\"Date\"].unique()[1:]:\n",
    "    ### Aggregate data\n",
    "    myUSAData = StateData[StateData['Date'] == day].groupby(\"Date\").agg(\n",
    "        TotalCases = pd.NamedAgg(column = \"TotalCases\", aggfunc = sum),\n",
    "        TotalDeaths = pd.NamedAgg(column = \"TotalDeaths\", aggfunc = sum),\n",
    "        Population = pd.NamedAgg(column = \"Population\", aggfunc = sum),\n",
    "        NewCases = pd.NamedAgg(column = \"NewCases\", aggfunc = sum),\n",
    "        NewDeaths = pd.NamedAgg(column = \"NewDeaths\", aggfunc = sum))\n",
    "        \n",
    "    ### Insert date into data\n",
    "    myUSAData.insert(0, \"Date\", day)\n",
    "    myUSAData.insert(0, \"Country\", \"United States\")\n",
    "    \n",
    "    ### Stack state datas\n",
    "    USAData = pd.concat([USAData, myUSAData])\n",
    "    \n",
    "    \n",
    "\n",
    "### Reset indicies\n",
    "USAData = USAData.set_index(np.arange(0,len(USAData)))\n",
    "\n",
    "USAData"
   ]
  },
  {
   "cell_type": "markdown",
   "metadata": {},
   "source": [
    "The final Total Cases & Total Deaths nubers are only a bit off. Give or take 50"
   ]
  },
  {
   "cell_type": "code",
   "execution_count": null,
   "metadata": {},
   "outputs": [],
   "source": [
    "USAData.info()"
   ]
  },
  {
   "cell_type": "markdown",
   "metadata": {},
   "source": [
    "### Proportions"
   ]
  },
  {
   "cell_type": "markdown",
   "metadata": {},
   "source": [
    "County data."
   ]
  },
  {
   "cell_type": "code",
   "execution_count": null,
   "metadata": {},
   "outputs": [],
   "source": [
    "### Percent of population that have cases.\n",
    "cases_deaths2[\"%Cases\"] = np.where(cases_deaths2[\"Population\"] != 0,\n",
    "                                   round((cases_deaths2[\"Total Cases\"] / cases_deaths2[\"Population\"]) * 100, 3),\n",
    "                                   0)\n",
    "\n",
    "### Percent of population that have died.\n",
    "cases_deaths2[\"%Deaths\"] = np.where(cases_deaths2[\"Population\"] != 0,\n",
    "                                    round((cases_deaths2[\"Total Deaths\"] / cases_deaths2[\"Population\"]) * 100, 3),\n",
    "                                    0)\n",
    "\n",
    "cases_deaths2"
   ]
  },
  {
   "cell_type": "markdown",
   "metadata": {},
   "source": [
    "State data."
   ]
  },
  {
   "cell_type": "code",
   "execution_count": null,
   "metadata": {},
   "outputs": [],
   "source": [
    "### Percent of population that have cases.\n",
    "StateData[\"%Cases\"] = np.where(StateData[\"Population\"] != 0,\n",
    "                               round((StateData[\"TotalCases\"] / StateData[\"Population\"]) * 100, 3),\n",
    "                               0)\n",
    "\n",
    "### Percent of population that have died.\n",
    "StateData[\"%Deaths\"] = np.where(StateData[\"Population\"] != 0,\n",
    "                                round((StateData[\"TotalDeaths\"] / StateData[\"Population\"]) * 100, 3),\n",
    "                                0)\n",
    "\n",
    "StateData"
   ]
  },
  {
   "cell_type": "markdown",
   "metadata": {},
   "source": [
    "Country data."
   ]
  },
  {
   "cell_type": "code",
   "execution_count": null,
   "metadata": {},
   "outputs": [],
   "source": [
    "### Percent of population that have cases.\n",
    "USAData[\"%Cases\"] = np.where(USAData[\"Population\"] != 0,\n",
    "                             round((USAData[\"TotalCases\"] / USAData[\"Population\"]) * 100, 3),\n",
    "                             0)\n",
    "\n",
    "### Percent of population that have died.\n",
    "USAData[\"%Deaths\"] = np.where(USAData[\"Population\"] != 0,\n",
    "                              round((USAData[\"TotalDeaths\"] / USAData[\"Population\"]) * 100, 3),\n",
    "                              0)\n",
    "\n",
    "USAData"
   ]
  },
  {
   "cell_type": "markdown",
   "metadata": {},
   "source": [
    " \n",
    " "
   ]
  },
  {
   "cell_type": "markdown",
   "metadata": {},
   "source": [
    "### Logarithmic Scales"
   ]
  },
  {
   "cell_type": "markdown",
   "metadata": {},
   "source": [
    "County data."
   ]
  },
  {
   "cell_type": "code",
   "execution_count": null,
   "metadata": {},
   "outputs": [],
   "source": [
    "cases_deaths2[\"log(Total Cases)\"] = round(np.log(cases_deaths2[\"Total Cases\"]), 3)\n",
    "\n",
    "cases_deaths2[\"log(Total Deaths)\"] = round(np.log(cases_deaths2[\"Total Deaths\"]), 3)\n",
    "\n",
    "cases_deaths2[\"log(New Cases)\"] = round(np.log(cases_deaths2[\"New Cases\"]), 3)\n",
    "\n",
    "cases_deaths2[\"log(New Deaths)\"] = round(np.log(cases_deaths2[\"New Deaths\"]), 3)\n",
    "\n",
    "cases_deaths2"
   ]
  },
  {
   "cell_type": "markdown",
   "metadata": {},
   "source": [
    "State data."
   ]
  },
  {
   "cell_type": "code",
   "execution_count": null,
   "metadata": {},
   "outputs": [],
   "source": [
    "StateData[\"log(Total Cases)\"] = round(np.log(StateData[\"TotalCases\"]), 3)\n",
    "\n",
    "StateData[\"log(Total Deaths)\"] = round(np.log(StateData[\"TotalDeaths\"]), 3)\n",
    "\n",
    "StateData[\"log(New Cases)\"] = round(np.log(StateData[\"NewCases\"]), 3)\n",
    "\n",
    "StateData[\"log(New Deaths)\"] = round(np.log(StateData[\"NewDeaths\"]), 3)\n",
    "\n",
    "StateData"
   ]
  },
  {
   "cell_type": "markdown",
   "metadata": {},
   "source": [
    "Country data."
   ]
  },
  {
   "cell_type": "code",
   "execution_count": null,
   "metadata": {},
   "outputs": [],
   "source": [
    "USAData[\"log(Total Cases)\"] = round(np.log(USAData[\"TotalCases\"]), 3)\n",
    "\n",
    "USAData[\"log(Total Deaths)\"] = round(np.log(USAData[\"TotalDeaths\"]), 3)\n",
    "\n",
    "USAData[\"log(New Cases)\"] = round(np.log(USAData[\"NewCases\"]), 3)\n",
    "\n",
    "USAData[\"log(New Deaths)\"] = round(np.log(USAData[\"NewDeaths\"]), 3)\n",
    "\n",
    "USAData"
   ]
  },
  {
   "cell_type": "markdown",
   "metadata": {},
   "source": [
    "### Finalize Cases & Deaths Data"
   ]
  },
  {
   "cell_type": "markdown",
   "metadata": {},
   "source": [
    "Fix column names in State data and USA data."
   ]
  },
  {
   "cell_type": "code",
   "execution_count": null,
   "metadata": {},
   "outputs": [],
   "source": [
    "StateData = StateData.rename(columns = {\"TotalCases\" : \"Total Cases\",\n",
    "                                        \"TotalDeaths\" : \"Total Deaths\",\n",
    "                                        \"NewCases\" : \"New Cases\",\n",
    "                                        \"NewDeaths\" : \"New Deaths\"})\n",
    "StateData"
   ]
  },
  {
   "cell_type": "code",
   "execution_count": null,
   "metadata": {},
   "outputs": [],
   "source": [
    "USAData = USAData.rename(columns = {\"TotalCases\" : \"Total Cases\",\n",
    "                                        \"TotalDeaths\" : \"Total Deaths\",\n",
    "                                        \"NewCases\" : \"New Cases\",\n",
    "                                        \"NewDeaths\" : \"New Deaths\"})\n",
    "USAData"
   ]
  },
  {
   "cell_type": "markdown",
   "metadata": {},
   "source": [
    "Change data types in State and USA data."
   ]
  },
  {
   "cell_type": "code",
   "execution_count": null,
   "metadata": {},
   "outputs": [],
   "source": [
    "StateData.info()"
   ]
  },
  {
   "cell_type": "code",
   "execution_count": null,
   "metadata": {},
   "outputs": [],
   "source": [
    "StateData = StateData.astype({\"State\" : \"category\",\n",
    "                              \"stateFIPS\" : \"str\"})\n",
    "StateData.info()"
   ]
  },
  {
   "cell_type": "code",
   "execution_count": null,
   "metadata": {},
   "outputs": [],
   "source": [
    "USAData.info()"
   ]
  },
  {
   "cell_type": "code",
   "execution_count": null,
   "metadata": {},
   "outputs": [],
   "source": [
    "USAData = USAData.astype({\"Country\" : \"category\"})\n",
    "USAData.info()"
   ]
  },
  {
   "cell_type": "markdown",
   "metadata": {},
   "source": [
    "Save cases_deaths2 as county data."
   ]
  },
  {
   "cell_type": "code",
   "execution_count": null,
   "metadata": {},
   "outputs": [],
   "source": [
    "CountyData = cases_deaths2"
   ]
  },
  {
   "cell_type": "markdown",
   "metadata": {},
   "source": [
    " "
   ]
  },
  {
   "cell_type": "markdown",
   "metadata": {},
   "source": [
    " "
   ]
  },
  {
   "cell_type": "markdown",
   "metadata": {},
   "source": [
    " "
   ]
  },
  {
   "cell_type": "markdown",
   "metadata": {},
   "source": [
    " "
   ]
  },
  {
   "cell_type": "markdown",
   "metadata": {},
   "source": [
    "# Google Mobility Data Preporcessing"
   ]
  },
  {
   "cell_type": "markdown",
   "metadata": {},
   "source": [
    "### About the Data"
   ]
  },
  {
   "cell_type": "markdown",
   "metadata": {},
   "source": [
    "The mobility data for this project comes from Google's open source Covid-19 Community Mobility Reports.\n",
    "\n",
    "The data constists of anonymized aggregated location data.\n",
    "\n",
    "The data tracks movement trends over time by geography, across different categories of places such as retail and recreation, groceries and pharmacies, parks, transit stations, workplaces, and residential.\n",
    "\n",
    "Changes for each day are compared to a baseline value for that day of the week:\n",
    "\n",
    "- The baseline is the median value, for the corresponding day of the week, during the 5-week period Jan 3–Feb 6, 2020 (pre-pandemic).\n",
    "\n",
    "- __The datasets show trends over several months with the most recent data representing approximately 2-3 days ago—this is how long it takes to produce the datasets.__\n",
    "\n",
    "<br>\n",
    "\n",
    "#### Place categories\n",
    "- Grocery & pharmacy\n",
    "    - Mobility trends for places like grocery markets, food warehouses, farmers markets, specialty food shops, drug stores, and pharmacies.\n",
    "\n",
    "- Parks\n",
    "    - Mobility trends for places like local parks, national parks, public beaches, marinas, dog parks, plazas, and public gardens.\n",
    "\n",
    "- Transit stations\n",
    "    - Mobility trends for places like public transport hubs such as subway, bus, and train stations.\n",
    "\n",
    "- Retail & recreation\n",
    "    - Mobility trends for places like restaurants, cafes, shopping centers, theme parks, museums, libraries, and movie theaters.\n",
    "\n",
    "- Residential\n",
    "    - Mobility trends for places of residence.\n",
    "\n",
    "- Workplaces\n",
    "    - Mobility trends for places of work.\n",
    "\n",
    "\n",
    "<br>\n",
    "\n",
    "No personally identifiable information, such as an individual’s location, contacts or movement, is made available at any point.\n",
    "\n",
    "This data will be available for a limited time, as long as public health officials find it useful in their work to stop the spread of COVID-19.\n",
    "\n",
    "The data can be found here: https://www.google.com/covid19/mobility/"
   ]
  },
  {
   "cell_type": "markdown",
   "metadata": {},
   "source": [
    "#### Import Data"
   ]
  },
  {
   "cell_type": "markdown",
   "metadata": {},
   "source": [
    "To unsure that we always have a copy of the data saved in the environment, every time the data is imported it will be saved."
   ]
  },
  {
   "cell_type": "code",
   "execution_count": null,
   "metadata": {},
   "outputs": [],
   "source": [
    "### Google Mobility data\n",
    "!curl https://www.gstatic.com/covid19/mobility/Global_Mobility_Report.csv?cachebust=7d0cb7d254d29111 --output data/mobility.csv"
   ]
  },
  {
   "cell_type": "markdown",
   "metadata": {},
   "source": [
    "Load in mobility data."
   ]
  },
  {
   "cell_type": "code",
   "execution_count": null,
   "metadata": {},
   "outputs": [],
   "source": [
    "mobility = pd.read_csv(\"data/mobility.csv\", dtype = \"str\")\n",
    "mobility"
   ]
  },
  {
   "cell_type": "markdown",
   "metadata": {},
   "source": [
    "This dataset countains world wide information. Filter out anything that is not the United States."
   ]
  },
  {
   "cell_type": "code",
   "execution_count": null,
   "metadata": {},
   "outputs": [],
   "source": [
    "### Keep only US\n",
    "mobility = mobility[mobility[\"country_region_code\"] == \"US\"]\n",
    "mobility"
   ]
  },
  {
   "cell_type": "markdown",
   "metadata": {},
   "source": [
    "Luckily, we can separate the data into county, state, and country levels."
   ]
  },
  {
   "cell_type": "code",
   "execution_count": null,
   "metadata": {},
   "outputs": [],
   "source": [
    "### Mobility data for whole country\n",
    "usaMobility = mobility[mobility[\"sub_region_1\"].isnull()]\n",
    "\n",
    "### Mobility data for states\n",
    "stateMobility = mobility[(mobility[\"sub_region_1\"].isnull() != True) & (mobility[\"sub_region_2\"].isnull())]\n",
    "\n",
    "### Mobility data for counties\n",
    "countyMobility = mobility[mobility[\"sub_region_2\"].isnull() != True]"
   ]
  },
  {
   "cell_type": "code",
   "execution_count": null,
   "metadata": {},
   "outputs": [],
   "source": [
    "usaMobility"
   ]
  },
  {
   "cell_type": "code",
   "execution_count": null,
   "metadata": {},
   "outputs": [],
   "source": [
    "stateMobility"
   ]
  },
  {
   "cell_type": "code",
   "execution_count": null,
   "metadata": {},
   "outputs": [],
   "source": [
    "countyMobility"
   ]
  },
  {
   "cell_type": "markdown",
   "metadata": {},
   "source": [
    "We can drop some uneccesary columns from each dataframe level."
   ]
  },
  {
   "cell_type": "code",
   "execution_count": null,
   "metadata": {},
   "outputs": [],
   "source": [
    "### Drop columns from usaMobility\n",
    "usaMobility = usaMobility.drop(columns = [\"country_region_code\", \"sub_region_1\",\n",
    "                                          \"sub_region_2\", \"iso_3166_2_code\",\n",
    "                                          \"census_fips_code\"])\n",
    "\n",
    "### Drop columns from stateMobility\n",
    "stateMobility = stateMobility.drop(columns = [\"country_region_code\", \"country_region\", \n",
    "                                              \"sub_region_2\", \"iso_3166_2_code\", \n",
    "                                              \"census_fips_code\"])\n",
    "\n",
    "### Drop columns from countyMobility\n",
    "countyMobility = countyMobility.drop(columns = [\"country_region_code\", \"country_region\",\n",
    "                                                \"sub_region_1\", \"iso_3166_2_code\"])"
   ]
  },
  {
   "cell_type": "code",
   "execution_count": null,
   "metadata": {},
   "outputs": [],
   "source": [
    "usaMobility"
   ]
  },
  {
   "cell_type": "code",
   "execution_count": null,
   "metadata": {},
   "outputs": [],
   "source": [
    "stateMobility"
   ]
  },
  {
   "cell_type": "code",
   "execution_count": null,
   "metadata": {},
   "outputs": [],
   "source": [
    "countyMobility"
   ]
  },
  {
   "cell_type": "markdown",
   "metadata": {},
   "source": [
    "Now rename columns to be more usable and to match covid-19 data naming convention.\n",
    "\n",
    "Also make Date as datetime64."
   ]
  },
  {
   "cell_type": "code",
   "execution_count": null,
   "metadata": {},
   "outputs": [],
   "source": [
    "### Rename usaMobility columns\n",
    "usaMobility = usaMobility.rename(columns = {\"country_region\" : \"Country\",\n",
    "                                            \"date\" : \"Date\",\n",
    "                                            \"retail_and_recreation_percent_change_from_baseline\" : \"%Retail/Rec Change\",\n",
    "                                            \"grocery_and_pharmacy_percent_change_from_baseline\" : \"%Grocery/Pharm Change\",\n",
    "                                            \"parks_percent_change_from_baseline\" : \"%Parks Change\",\n",
    "                                            \"transit_stations_percent_change_from_baseline\" : \"%Transit Change\",\n",
    "                                            \"workplaces_percent_change_from_baseline\" : \"%Workplace Change\",\n",
    "                                            \"residential_percent_change_from_baseline\" : \"%Residential Change\"})\n",
    "usaMobility = usaMobility.astype({\"Date\" : \"datetime64\"})\n",
    "\n",
    "\n",
    "### Rename stateMobility columns\n",
    "stateMobility = stateMobility.rename(columns = {\"sub_region_1\" : \"State\",\n",
    "                                            \"date\" : \"Date\",\n",
    "                                            \"retail_and_recreation_percent_change_from_baseline\" : \"%Retail/Rec Change\",\n",
    "                                            \"grocery_and_pharmacy_percent_change_from_baseline\" : \"%Grocery/Pharm Change\",\n",
    "                                            \"parks_percent_change_from_baseline\" : \"%Parks Change\",\n",
    "                                            \"transit_stations_percent_change_from_baseline\" : \"%Transit Change\",\n",
    "                                            \"workplaces_percent_change_from_baseline\" : \"%Workplace Change\",\n",
    "                                            \"residential_percent_change_from_baseline\" : \"%Residential Change\"})\n",
    "stateMobility = stateMobility.astype({\"Date\" : \"datetime64\"})\n",
    "\n",
    "\n",
    "### Rename countyMobility columns\n",
    "countyMobility = countyMobility.rename(columns = {\"sub_region_2\" : \"County Name\",\n",
    "                                            \"census_fips_code\" : \"countyFIPS\",\n",
    "                                            \"date\" : \"Date\",\n",
    "                                            \"retail_and_recreation_percent_change_from_baseline\" : \"%Retail/Rec Change\",\n",
    "                                            \"grocery_and_pharmacy_percent_change_from_baseline\" : \"%Grocery/Pharm Change\",\n",
    "                                            \"parks_percent_change_from_baseline\" : \"%Parks Change\",\n",
    "                                            \"transit_stations_percent_change_from_baseline\" : \"%Transit Change\",\n",
    "                                            \"workplaces_percent_change_from_baseline\" : \"%Workplace Change\",\n",
    "                                            \"residential_percent_change_from_baseline\" : \"%Residential Change\"})\n",
    "countyMobility = countyMobility.astype({\"Date\" : \"datetime64\"})\n"
   ]
  },
  {
   "cell_type": "code",
   "execution_count": null,
   "metadata": {},
   "outputs": [],
   "source": [
    "usaMobility"
   ]
  },
  {
   "cell_type": "code",
   "execution_count": null,
   "metadata": {},
   "outputs": [],
   "source": [
    "stateMobility"
   ]
  },
  {
   "cell_type": "code",
   "execution_count": null,
   "metadata": {},
   "outputs": [],
   "source": [
    "countyMobility"
   ]
  },
  {
   "cell_type": "markdown",
   "metadata": {},
   "source": [
    "Now we need to join the covid-19 data with the mobility data for each level. NaNs will be induced."
   ]
  },
  {
   "cell_type": "code",
   "execution_count": null,
   "metadata": {},
   "outputs": [],
   "source": [
    "### Join country data.\n",
    "usaFull = USAData.merge(usaMobility, on = \"Date\", how = \"left\")\n",
    "usaFull = usaFull.drop(columns = \"Country_y\")\n",
    "usaFull = usaFull.rename(columns = {\"Country_x\": \"Country\"})\n",
    "usaFull"
   ]
  },
  {
   "cell_type": "code",
   "execution_count": null,
   "metadata": {},
   "outputs": [],
   "source": [
    "### First, re-label District of Columbia as DC\n",
    "DCindex = list(stateMobility[\"State\"][stateMobility[\"State\"] == \"District of Columbia\"].index)\n",
    "for index in DCindex:\n",
    "    stateMobility[\"State\"][index] = \"DC\"\n",
    "\n",
    "### Join state data.\n",
    "stateFull = StateData.merge(stateMobility, on = [\"State\",\"Date\"], how = \"left\")\n",
    "stateFull"
   ]
  },
  {
   "cell_type": "code",
   "execution_count": null,
   "metadata": {},
   "outputs": [],
   "source": [
    "### Join county data\n",
    "countyFull = CountyData.merge(countyMobility, on = [\"countyFIPS\", \"Date\"], how = \"left\")\n",
    "countyFull = countyFull.drop(columns = \"County Name_y\")\n",
    "countyFull = countyFull.rename(columns = {\"County Name_x\" : \"County Name\"})\n",
    "countyFull"
   ]
  },
  {
   "cell_type": "markdown",
   "metadata": {},
   "source": [
    "### Final Data"
   ]
  },
  {
   "cell_type": "markdown",
   "metadata": {},
   "source": [
    "Save datasets to CSVs."
   ]
  },
  {
   "cell_type": "code",
   "execution_count": null,
   "metadata": {},
   "outputs": [],
   "source": [
    "countyFull.to_csv(\"data/countyData.csv\", index = False)\n",
    "stateFull.to_csv(\"data/stateData.csv\", index = False)\n",
    "usaFull.to_csv(\"data/usaData.csv\", index = False)"
   ]
  },
  {
   "cell_type": "code",
   "execution_count": null,
   "metadata": {},
   "outputs": [],
   "source": []
  }
 ],
 "metadata": {
  "kernelspec": {
   "display_name": "Python 3",
   "language": "python",
   "name": "python3"
  },
  "language_info": {
   "codemirror_mode": {
    "name": "ipython",
    "version": 3
   },
   "file_extension": ".py",
   "mimetype": "text/x-python",
   "name": "python",
   "nbconvert_exporter": "python",
   "pygments_lexer": "ipython3",
   "version": "3.7.7"
  }
 },
 "nbformat": 4,
 "nbformat_minor": 4
}
