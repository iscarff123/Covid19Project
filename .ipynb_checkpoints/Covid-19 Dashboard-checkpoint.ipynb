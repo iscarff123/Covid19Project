{
 "cells": [
  {
   "cell_type": "markdown",
   "metadata": {},
   "source": [
    "#  COVID-19 – Data-Based Prediction Tool "
   ]
  },
  {
   "cell_type": "markdown",
   "metadata": {},
   "source": [
    "## Ian Scarff (iie728)"
   ]
  },
  {
   "cell_type": "markdown",
   "metadata": {},
   "source": [
    "## Practicum II Project 2020"
   ]
  },
  {
   "cell_type": "markdown",
   "metadata": {},
   "source": [
    " "
   ]
  },
  {
   "cell_type": "markdown",
   "metadata": {},
   "source": [
    " "
   ]
  },
  {
   "cell_type": "markdown",
   "metadata": {},
   "source": [
    "### Import Packages"
   ]
  },
  {
   "cell_type": "code",
   "execution_count": 1,
   "metadata": {},
   "outputs": [],
   "source": [
    "import numpy as np\n",
    "import pandas as pd\n",
    "import plotly\n",
    "import plotly.express as px\n",
    "import dash\n",
    "import dash_core_components as dcc\n",
    "import dash_html_components as html\n",
    "from dash.dependencies import Input, Output\n",
    "from jupyter_plotly_dash import JupyterDash"
   ]
  },
  {
   "cell_type": "markdown",
   "metadata": {},
   "source": [
    " "
   ]
  },
  {
   "cell_type": "markdown",
   "metadata": {},
   "source": [
    " "
   ]
  },
  {
   "cell_type": "markdown",
   "metadata": {},
   "source": [
    "Run the Data Preprocessing code to have up to date data."
   ]
  },
  {
   "cell_type": "code",
   "execution_count": 2,
   "metadata": {},
   "outputs": [
    {
     "name": "stdout",
     "output_type": "stream",
     "text": [
      "importing Jupyter notebook from Data_Preprocessing.ipynb\n",
      "  % Total    % Received % Xferd  Average Speed   Time    Time     Time  Current\n",
      "                                 Dload  Upload   Total   Spent    Left  Speed\n",
      "100 1383k  100 1383k    0     0  1693k      0 --:--:-- --:--:-- --:--:-- 1693k\n",
      "  % Total    % Received % Xferd  Average Speed   Time    Time     Time  Current\n",
      "                                 Dload  Upload   Total   Spent    Left  Speed\n",
      "100 1150k  100 1150k    0     0  1674k      0 --:--:-- --:--:-- --:--:-- 1671k\n",
      "<class 'pandas.core.frame.DataFrame'>\n",
      "RangeIndex: 513912 entries, 0 to 513911\n",
      "Data columns (total 10 columns):\n",
      " #   Column        Non-Null Count   Dtype         \n",
      "---  ------        --------------   -----         \n",
      " 0   County Name   513912 non-null  object        \n",
      " 1   State         513912 non-null  object        \n",
      " 2   countyFIPS    513912 non-null  int64         \n",
      " 3   stateFIPS     513912 non-null  int64         \n",
      " 4   Date          513912 non-null  datetime64[ns]\n",
      " 5   Total Cases   513912 non-null  float64       \n",
      " 6   Total Deaths  513912 non-null  int64         \n",
      " 7   Population    513912 non-null  int64         \n",
      " 8   New Cases     513912 non-null  float64       \n",
      " 9   New Deaths    513912 non-null  int64         \n",
      "dtypes: datetime64[ns](1), float64(2), int64(5), object(2)\n",
      "memory usage: 39.2+ MB\n",
      "<class 'pandas.core.frame.DataFrame'>\n",
      "RangeIndex: 513912 entries, 0 to 513911\n",
      "Data columns (total 10 columns):\n",
      " #   Column        Non-Null Count   Dtype         \n",
      "---  ------        --------------   -----         \n",
      " 0   County Name   513912 non-null  category      \n",
      " 1   State         513912 non-null  category      \n",
      " 2   countyFIPS    513912 non-null  object        \n",
      " 3   stateFIPS     513912 non-null  object        \n",
      " 4   Date          513912 non-null  datetime64[ns]\n",
      " 5   Total Cases   513912 non-null  float64       \n",
      " 6   Total Deaths  513912 non-null  int64         \n",
      " 7   Population    513912 non-null  int64         \n",
      " 8   New Cases     513912 non-null  float64       \n",
      " 9   New Deaths    513912 non-null  int64         \n",
      "dtypes: category(2), datetime64[ns](1), float64(2), int64(3), object(2)\n",
      "memory usage: 32.9+ MB\n",
      "<class 'pandas.core.frame.DataFrame'>\n",
      "Int64Index: 505862 entries, 0 to 505861\n",
      "Data columns (total 10 columns):\n",
      " #   Column        Non-Null Count   Dtype         \n",
      "---  ------        --------------   -----         \n",
      " 0   County Name   505862 non-null  category      \n",
      " 1   State         505862 non-null  category      \n",
      " 2   countyFIPS    505862 non-null  object        \n",
      " 3   stateFIPS     505862 non-null  object        \n",
      " 4   Date          505862 non-null  datetime64[ns]\n",
      " 5   Total Cases   505862 non-null  float64       \n",
      " 6   Total Deaths  505862 non-null  int64         \n",
      " 7   Population    505862 non-null  int64         \n",
      " 8   New Cases     505862 non-null  float64       \n",
      " 9   New Deaths    505862 non-null  int64         \n",
      "dtypes: category(2), datetime64[ns](1), float64(2), int64(3), object(2)\n",
      "memory usage: 36.3+ MB\n",
      "<class 'pandas.core.frame.DataFrame'>\n",
      "Int64Index: 161 entries, 0 to 160\n",
      "Data columns (total 7 columns):\n",
      " #   Column       Non-Null Count  Dtype         \n",
      "---  ------       --------------  -----         \n",
      " 0   Country      161 non-null    object        \n",
      " 1   Date         161 non-null    datetime64[ns]\n",
      " 2   TotalCases   161 non-null    float64       \n",
      " 3   TotalDeaths  161 non-null    int64         \n",
      " 4   Population   161 non-null    int64         \n",
      " 5   NewCases     161 non-null    float64       \n",
      " 6   NewDeaths    161 non-null    int64         \n",
      "dtypes: datetime64[ns](1), float64(2), int64(3), object(1)\n",
      "memory usage: 10.1+ KB\n",
      "<class 'pandas.core.frame.DataFrame'>\n",
      "Int64Index: 8211 entries, 0 to 8210\n",
      "Data columns (total 14 columns):\n",
      " #   Column             Non-Null Count  Dtype         \n",
      "---  ------             --------------  -----         \n",
      " 0   Date               8211 non-null   datetime64[ns]\n",
      " 1   State              8211 non-null   object        \n",
      " 2   stateFIPS          8211 non-null   object        \n",
      " 3   Total Cases        8211 non-null   float64       \n",
      " 4   Total Deaths       8211 non-null   int64         \n",
      " 5   Population         8211 non-null   int64         \n",
      " 6   New Cases          8211 non-null   float64       \n",
      " 7   New Deaths         8211 non-null   int64         \n",
      " 8   %Cases             8211 non-null   float64       \n",
      " 9   %Deaths            8211 non-null   float64       \n",
      " 10  log(Total Cases)   8211 non-null   float64       \n",
      " 11  log(Total Deaths)  8211 non-null   float64       \n",
      " 12  log(New Cases)     8211 non-null   float64       \n",
      " 13  log(New Deaths)    8211 non-null   float64       \n",
      "dtypes: datetime64[ns](1), float64(8), int64(3), object(2)\n",
      "memory usage: 962.2+ KB\n",
      "<class 'pandas.core.frame.DataFrame'>\n",
      "Int64Index: 8211 entries, 0 to 8210\n",
      "Data columns (total 14 columns):\n",
      " #   Column             Non-Null Count  Dtype         \n",
      "---  ------             --------------  -----         \n",
      " 0   Date               8211 non-null   datetime64[ns]\n",
      " 1   State              8211 non-null   category      \n",
      " 2   stateFIPS          8211 non-null   object        \n",
      " 3   Total Cases        8211 non-null   float64       \n",
      " 4   Total Deaths       8211 non-null   int64         \n",
      " 5   Population         8211 non-null   int64         \n",
      " 6   New Cases          8211 non-null   float64       \n",
      " 7   New Deaths         8211 non-null   int64         \n",
      " 8   %Cases             8211 non-null   float64       \n",
      " 9   %Deaths            8211 non-null   float64       \n",
      " 10  log(Total Cases)   8211 non-null   float64       \n",
      " 11  log(Total Deaths)  8211 non-null   float64       \n",
      " 12  log(New Cases)     8211 non-null   float64       \n",
      " 13  log(New Deaths)    8211 non-null   float64       \n",
      "dtypes: category(1), datetime64[ns](1), float64(8), int64(3), object(1)\n",
      "memory usage: 909.0+ KB\n",
      "<class 'pandas.core.frame.DataFrame'>\n",
      "Int64Index: 161 entries, 0 to 160\n",
      "Data columns (total 13 columns):\n",
      " #   Column             Non-Null Count  Dtype         \n",
      "---  ------             --------------  -----         \n",
      " 0   Country            161 non-null    object        \n",
      " 1   Date               161 non-null    datetime64[ns]\n",
      " 2   Total Cases        161 non-null    float64       \n",
      " 3   Total Deaths       161 non-null    int64         \n",
      " 4   Population         161 non-null    int64         \n",
      " 5   New Cases          161 non-null    float64       \n",
      " 6   New Deaths         161 non-null    int64         \n",
      " 7   %Cases             161 non-null    float64       \n",
      " 8   %Deaths            161 non-null    float64       \n",
      " 9   log(Total Cases)   161 non-null    float64       \n",
      " 10  log(Total Deaths)  161 non-null    float64       \n",
      " 11  log(New Cases)     161 non-null    float64       \n",
      " 12  log(New Deaths)    161 non-null    float64       \n",
      "dtypes: datetime64[ns](1), float64(8), int64(3), object(1)\n",
      "memory usage: 17.6+ KB\n",
      "<class 'pandas.core.frame.DataFrame'>\n",
      "Int64Index: 161 entries, 0 to 160\n",
      "Data columns (total 13 columns):\n",
      " #   Column             Non-Null Count  Dtype         \n",
      "---  ------             --------------  -----         \n",
      " 0   Country            161 non-null    category      \n",
      " 1   Date               161 non-null    datetime64[ns]\n",
      " 2   Total Cases        161 non-null    float64       \n",
      " 3   Total Deaths       161 non-null    int64         \n",
      " 4   Population         161 non-null    int64         \n",
      " 5   New Cases          161 non-null    float64       \n",
      " 6   New Deaths         161 non-null    int64         \n",
      " 7   %Cases             161 non-null    float64       \n",
      " 8   %Deaths            161 non-null    float64       \n",
      " 9   log(Total Cases)   161 non-null    float64       \n",
      " 10  log(Total Deaths)  161 non-null    float64       \n",
      " 11  log(New Cases)     161 non-null    float64       \n",
      " 12  log(New Deaths)    161 non-null    float64       \n",
      "dtypes: category(1), datetime64[ns](1), float64(8), int64(3)\n",
      "memory usage: 16.6 KB\n",
      "  % Total    % Received % Xferd  Average Speed   Time    Time     Time  Current\n",
      "                                 Dload  Upload   Total   Spent    Left  Speed\n",
      "  0     0    0     0    0     0      0      0 --:--:-- --:--:-- --:--:--     0"
     ]
    },
    {
     "name": "stderr",
     "output_type": "stream",
     "text": [
      "/home/hcup-server2/.local/lib/python3.7/site-packages/pandas/core/series.py:679: RuntimeWarning: divide by zero encountered in log\n",
      "  result = getattr(ufunc, method)(*inputs, **kwargs)\n"
     ]
    },
    {
     "name": "stdout",
     "output_type": "stream",
     "text": [
      "100 39.8M  100 39.8M    0     0  72.8M      0 --:--:-- --:--:-- --:--:-- 72.9M\n"
     ]
    },
    {
     "name": "stderr",
     "output_type": "stream",
     "text": [
      "Data_Preprocessing.ipynb:4: SettingWithCopyWarning: \n",
      "A value is trying to be set on a copy of a slice from a DataFrame\n",
      "\n",
      "See the caveats in the documentation: https://pandas.pydata.org/pandas-docs/stable/user_guide/indexing.html#returning-a-view-versus-a-copy\n",
      "  \"cell_type\": \"markdown\",\n"
     ]
    },
    {
     "name": "stdout",
     "output_type": "stream",
     "text": [
      "Data Updated\n"
     ]
    }
   ],
   "source": [
    "import import_ipynb\n",
    "import Data_Preprocessing\n",
    "print(\"Data Updated\")"
   ]
  },
  {
   "cell_type": "markdown",
   "metadata": {},
   "source": [
    " "
   ]
  },
  {
   "cell_type": "markdown",
   "metadata": {},
   "source": [
    " "
   ]
  },
  {
   "cell_type": "markdown",
   "metadata": {},
   "source": [
    "## Load datasets"
   ]
  },
  {
   "cell_type": "code",
   "execution_count": 3,
   "metadata": {},
   "outputs": [],
   "source": [
    "countyData = pd.read_csv(\"data/countyData.csv\", dtype = \"str\")\n",
    "stateData = pd.read_csv(\"data/stateData.csv\", dtype = \"str\")\n",
    "usaData = pd.read_csv(\"data/usaData.csv\", dtype = \"str\")\n",
    "\n",
    "import json\n",
    "counties = open(\"data/geojson-counties-fips.json\",)\n",
    "counties = json.load(counties)"
   ]
  },
  {
   "cell_type": "code",
   "execution_count": 5,
   "metadata": {},
   "outputs": [
    {
     "ename": "ValueError",
     "evalue": "invalid literal for int() with base 10: '0.0'",
     "output_type": "error",
     "traceback": [
      "\u001b[0;31m---------------------------------------------------------------------------\u001b[0m",
      "\u001b[0;31mValueError\u001b[0m                                Traceback (most recent call last)",
      "\u001b[0;32m<ipython-input-5-97aaead1221d>\u001b[0m in \u001b[0;36m<module>\u001b[0;34m\u001b[0m\n\u001b[1;32m     11\u001b[0m                                 \u001b[0;34m\"log(Total Deaths)\"\u001b[0m \u001b[0;34m:\u001b[0m \u001b[0;34m\"float64\"\u001b[0m\u001b[0;34m,\u001b[0m\u001b[0;34m\u001b[0m\u001b[0;34m\u001b[0m\u001b[0m\n\u001b[1;32m     12\u001b[0m                                 \u001b[0;34m\"log(New Cases)\"\u001b[0m \u001b[0;34m:\u001b[0m \u001b[0;34m\"float64\"\u001b[0m\u001b[0;34m,\u001b[0m\u001b[0;34m\u001b[0m\u001b[0;34m\u001b[0m\u001b[0m\n\u001b[0;32m---> 13\u001b[0;31m                                 \"log(New Deaths)\" : \"float\"})\n\u001b[0m\u001b[1;32m     14\u001b[0m \u001b[0;34m\u001b[0m\u001b[0m\n\u001b[1;32m     15\u001b[0m stateData = stateData.astype({\"Total Cases\" : \"int64\",\n",
      "\u001b[0;32m~/.local/lib/python3.7/site-packages/pandas/core/generic.py\u001b[0m in \u001b[0;36mastype\u001b[0;34m(self, dtype, copy, errors)\u001b[0m\n\u001b[1;32m   5681\u001b[0m                 \u001b[0;32mif\u001b[0m \u001b[0mcol_name\u001b[0m \u001b[0;32min\u001b[0m \u001b[0mdtype\u001b[0m\u001b[0;34m:\u001b[0m\u001b[0;34m\u001b[0m\u001b[0;34m\u001b[0m\u001b[0m\n\u001b[1;32m   5682\u001b[0m                     results.append(\n\u001b[0;32m-> 5683\u001b[0;31m                         \u001b[0mcol\u001b[0m\u001b[0;34m.\u001b[0m\u001b[0mastype\u001b[0m\u001b[0;34m(\u001b[0m\u001b[0mdtype\u001b[0m\u001b[0;34m=\u001b[0m\u001b[0mdtype\u001b[0m\u001b[0;34m[\u001b[0m\u001b[0mcol_name\u001b[0m\u001b[0;34m]\u001b[0m\u001b[0;34m,\u001b[0m \u001b[0mcopy\u001b[0m\u001b[0;34m=\u001b[0m\u001b[0mcopy\u001b[0m\u001b[0;34m,\u001b[0m \u001b[0merrors\u001b[0m\u001b[0;34m=\u001b[0m\u001b[0merrors\u001b[0m\u001b[0;34m)\u001b[0m\u001b[0;34m\u001b[0m\u001b[0;34m\u001b[0m\u001b[0m\n\u001b[0m\u001b[1;32m   5684\u001b[0m                     )\n\u001b[1;32m   5685\u001b[0m                 \u001b[0;32melse\u001b[0m\u001b[0;34m:\u001b[0m\u001b[0;34m\u001b[0m\u001b[0;34m\u001b[0m\u001b[0m\n",
      "\u001b[0;32m~/.local/lib/python3.7/site-packages/pandas/core/generic.py\u001b[0m in \u001b[0;36mastype\u001b[0;34m(self, dtype, copy, errors)\u001b[0m\n\u001b[1;32m   5696\u001b[0m         \u001b[0;32melse\u001b[0m\u001b[0;34m:\u001b[0m\u001b[0;34m\u001b[0m\u001b[0;34m\u001b[0m\u001b[0m\n\u001b[1;32m   5697\u001b[0m             \u001b[0;31m# else, only a single dtype is given\u001b[0m\u001b[0;34m\u001b[0m\u001b[0;34m\u001b[0m\u001b[0;34m\u001b[0m\u001b[0m\n\u001b[0;32m-> 5698\u001b[0;31m             \u001b[0mnew_data\u001b[0m \u001b[0;34m=\u001b[0m \u001b[0mself\u001b[0m\u001b[0;34m.\u001b[0m\u001b[0m_data\u001b[0m\u001b[0;34m.\u001b[0m\u001b[0mastype\u001b[0m\u001b[0;34m(\u001b[0m\u001b[0mdtype\u001b[0m\u001b[0;34m=\u001b[0m\u001b[0mdtype\u001b[0m\u001b[0;34m,\u001b[0m \u001b[0mcopy\u001b[0m\u001b[0;34m=\u001b[0m\u001b[0mcopy\u001b[0m\u001b[0;34m,\u001b[0m \u001b[0merrors\u001b[0m\u001b[0;34m=\u001b[0m\u001b[0merrors\u001b[0m\u001b[0;34m)\u001b[0m\u001b[0;34m\u001b[0m\u001b[0;34m\u001b[0m\u001b[0m\n\u001b[0m\u001b[1;32m   5699\u001b[0m             \u001b[0;32mreturn\u001b[0m \u001b[0mself\u001b[0m\u001b[0;34m.\u001b[0m\u001b[0m_constructor\u001b[0m\u001b[0;34m(\u001b[0m\u001b[0mnew_data\u001b[0m\u001b[0;34m)\u001b[0m\u001b[0;34m.\u001b[0m\u001b[0m__finalize__\u001b[0m\u001b[0;34m(\u001b[0m\u001b[0mself\u001b[0m\u001b[0;34m)\u001b[0m\u001b[0;34m\u001b[0m\u001b[0;34m\u001b[0m\u001b[0m\n\u001b[1;32m   5700\u001b[0m \u001b[0;34m\u001b[0m\u001b[0m\n",
      "\u001b[0;32m~/.local/lib/python3.7/site-packages/pandas/core/internals/managers.py\u001b[0m in \u001b[0;36mastype\u001b[0;34m(self, dtype, copy, errors)\u001b[0m\n\u001b[1;32m    580\u001b[0m \u001b[0;34m\u001b[0m\u001b[0m\n\u001b[1;32m    581\u001b[0m     \u001b[0;32mdef\u001b[0m \u001b[0mastype\u001b[0m\u001b[0;34m(\u001b[0m\u001b[0mself\u001b[0m\u001b[0;34m,\u001b[0m \u001b[0mdtype\u001b[0m\u001b[0;34m,\u001b[0m \u001b[0mcopy\u001b[0m\u001b[0;34m:\u001b[0m \u001b[0mbool\u001b[0m \u001b[0;34m=\u001b[0m \u001b[0;32mFalse\u001b[0m\u001b[0;34m,\u001b[0m \u001b[0merrors\u001b[0m\u001b[0;34m:\u001b[0m \u001b[0mstr\u001b[0m \u001b[0;34m=\u001b[0m \u001b[0;34m\"raise\"\u001b[0m\u001b[0;34m)\u001b[0m\u001b[0;34m:\u001b[0m\u001b[0;34m\u001b[0m\u001b[0;34m\u001b[0m\u001b[0m\n\u001b[0;32m--> 582\u001b[0;31m         \u001b[0;32mreturn\u001b[0m \u001b[0mself\u001b[0m\u001b[0;34m.\u001b[0m\u001b[0mapply\u001b[0m\u001b[0;34m(\u001b[0m\u001b[0;34m\"astype\"\u001b[0m\u001b[0;34m,\u001b[0m \u001b[0mdtype\u001b[0m\u001b[0;34m=\u001b[0m\u001b[0mdtype\u001b[0m\u001b[0;34m,\u001b[0m \u001b[0mcopy\u001b[0m\u001b[0;34m=\u001b[0m\u001b[0mcopy\u001b[0m\u001b[0;34m,\u001b[0m \u001b[0merrors\u001b[0m\u001b[0;34m=\u001b[0m\u001b[0merrors\u001b[0m\u001b[0;34m)\u001b[0m\u001b[0;34m\u001b[0m\u001b[0;34m\u001b[0m\u001b[0m\n\u001b[0m\u001b[1;32m    583\u001b[0m \u001b[0;34m\u001b[0m\u001b[0m\n\u001b[1;32m    584\u001b[0m     \u001b[0;32mdef\u001b[0m \u001b[0mconvert\u001b[0m\u001b[0;34m(\u001b[0m\u001b[0mself\u001b[0m\u001b[0;34m,\u001b[0m \u001b[0;34m**\u001b[0m\u001b[0mkwargs\u001b[0m\u001b[0;34m)\u001b[0m\u001b[0;34m:\u001b[0m\u001b[0;34m\u001b[0m\u001b[0;34m\u001b[0m\u001b[0m\n",
      "\u001b[0;32m~/.local/lib/python3.7/site-packages/pandas/core/internals/managers.py\u001b[0m in \u001b[0;36mapply\u001b[0;34m(self, f, filter, **kwargs)\u001b[0m\n\u001b[1;32m    440\u001b[0m                 \u001b[0mapplied\u001b[0m \u001b[0;34m=\u001b[0m \u001b[0mb\u001b[0m\u001b[0;34m.\u001b[0m\u001b[0mapply\u001b[0m\u001b[0;34m(\u001b[0m\u001b[0mf\u001b[0m\u001b[0;34m,\u001b[0m \u001b[0;34m**\u001b[0m\u001b[0mkwargs\u001b[0m\u001b[0;34m)\u001b[0m\u001b[0;34m\u001b[0m\u001b[0;34m\u001b[0m\u001b[0m\n\u001b[1;32m    441\u001b[0m             \u001b[0;32melse\u001b[0m\u001b[0;34m:\u001b[0m\u001b[0;34m\u001b[0m\u001b[0;34m\u001b[0m\u001b[0m\n\u001b[0;32m--> 442\u001b[0;31m                 \u001b[0mapplied\u001b[0m \u001b[0;34m=\u001b[0m \u001b[0mgetattr\u001b[0m\u001b[0;34m(\u001b[0m\u001b[0mb\u001b[0m\u001b[0;34m,\u001b[0m \u001b[0mf\u001b[0m\u001b[0;34m)\u001b[0m\u001b[0;34m(\u001b[0m\u001b[0;34m**\u001b[0m\u001b[0mkwargs\u001b[0m\u001b[0;34m)\u001b[0m\u001b[0;34m\u001b[0m\u001b[0;34m\u001b[0m\u001b[0m\n\u001b[0m\u001b[1;32m    443\u001b[0m             \u001b[0mresult_blocks\u001b[0m \u001b[0;34m=\u001b[0m \u001b[0m_extend_blocks\u001b[0m\u001b[0;34m(\u001b[0m\u001b[0mapplied\u001b[0m\u001b[0;34m,\u001b[0m \u001b[0mresult_blocks\u001b[0m\u001b[0;34m)\u001b[0m\u001b[0;34m\u001b[0m\u001b[0;34m\u001b[0m\u001b[0m\n\u001b[1;32m    444\u001b[0m \u001b[0;34m\u001b[0m\u001b[0m\n",
      "\u001b[0;32m~/.local/lib/python3.7/site-packages/pandas/core/internals/blocks.py\u001b[0m in \u001b[0;36mastype\u001b[0;34m(self, dtype, copy, errors)\u001b[0m\n\u001b[1;32m    623\u001b[0m             \u001b[0mvals1d\u001b[0m \u001b[0;34m=\u001b[0m \u001b[0mvalues\u001b[0m\u001b[0;34m.\u001b[0m\u001b[0mravel\u001b[0m\u001b[0;34m(\u001b[0m\u001b[0;34m)\u001b[0m\u001b[0;34m\u001b[0m\u001b[0;34m\u001b[0m\u001b[0m\n\u001b[1;32m    624\u001b[0m             \u001b[0;32mtry\u001b[0m\u001b[0;34m:\u001b[0m\u001b[0;34m\u001b[0m\u001b[0;34m\u001b[0m\u001b[0m\n\u001b[0;32m--> 625\u001b[0;31m                 \u001b[0mvalues\u001b[0m \u001b[0;34m=\u001b[0m \u001b[0mastype_nansafe\u001b[0m\u001b[0;34m(\u001b[0m\u001b[0mvals1d\u001b[0m\u001b[0;34m,\u001b[0m \u001b[0mdtype\u001b[0m\u001b[0;34m,\u001b[0m \u001b[0mcopy\u001b[0m\u001b[0;34m=\u001b[0m\u001b[0;32mTrue\u001b[0m\u001b[0;34m)\u001b[0m\u001b[0;34m\u001b[0m\u001b[0;34m\u001b[0m\u001b[0m\n\u001b[0m\u001b[1;32m    626\u001b[0m             \u001b[0;32mexcept\u001b[0m \u001b[0;34m(\u001b[0m\u001b[0mValueError\u001b[0m\u001b[0;34m,\u001b[0m \u001b[0mTypeError\u001b[0m\u001b[0;34m)\u001b[0m\u001b[0;34m:\u001b[0m\u001b[0;34m\u001b[0m\u001b[0;34m\u001b[0m\u001b[0m\n\u001b[1;32m    627\u001b[0m                 \u001b[0;31m# e.g. astype_nansafe can fail on object-dtype of strings\u001b[0m\u001b[0;34m\u001b[0m\u001b[0;34m\u001b[0m\u001b[0;34m\u001b[0m\u001b[0m\n",
      "\u001b[0;32m~/.local/lib/python3.7/site-packages/pandas/core/dtypes/cast.py\u001b[0m in \u001b[0;36mastype_nansafe\u001b[0;34m(arr, dtype, copy, skipna)\u001b[0m\n\u001b[1;32m    872\u001b[0m         \u001b[0;31m# work around NumPy brokenness, #1987\u001b[0m\u001b[0;34m\u001b[0m\u001b[0;34m\u001b[0m\u001b[0;34m\u001b[0m\u001b[0m\n\u001b[1;32m    873\u001b[0m         \u001b[0;32mif\u001b[0m \u001b[0mnp\u001b[0m\u001b[0;34m.\u001b[0m\u001b[0missubdtype\u001b[0m\u001b[0;34m(\u001b[0m\u001b[0mdtype\u001b[0m\u001b[0;34m.\u001b[0m\u001b[0mtype\u001b[0m\u001b[0;34m,\u001b[0m \u001b[0mnp\u001b[0m\u001b[0;34m.\u001b[0m\u001b[0minteger\u001b[0m\u001b[0;34m)\u001b[0m\u001b[0;34m:\u001b[0m\u001b[0;34m\u001b[0m\u001b[0;34m\u001b[0m\u001b[0m\n\u001b[0;32m--> 874\u001b[0;31m             \u001b[0;32mreturn\u001b[0m \u001b[0mlib\u001b[0m\u001b[0;34m.\u001b[0m\u001b[0mastype_intsafe\u001b[0m\u001b[0;34m(\u001b[0m\u001b[0marr\u001b[0m\u001b[0;34m.\u001b[0m\u001b[0mravel\u001b[0m\u001b[0;34m(\u001b[0m\u001b[0;34m)\u001b[0m\u001b[0;34m,\u001b[0m \u001b[0mdtype\u001b[0m\u001b[0;34m)\u001b[0m\u001b[0;34m.\u001b[0m\u001b[0mreshape\u001b[0m\u001b[0;34m(\u001b[0m\u001b[0marr\u001b[0m\u001b[0;34m.\u001b[0m\u001b[0mshape\u001b[0m\u001b[0;34m)\u001b[0m\u001b[0;34m\u001b[0m\u001b[0;34m\u001b[0m\u001b[0m\n\u001b[0m\u001b[1;32m    875\u001b[0m \u001b[0;34m\u001b[0m\u001b[0m\n\u001b[1;32m    876\u001b[0m         \u001b[0;31m# if we have a datetime/timedelta array of objects\u001b[0m\u001b[0;34m\u001b[0m\u001b[0;34m\u001b[0m\u001b[0;34m\u001b[0m\u001b[0m\n",
      "\u001b[0;32mpandas/_libs/lib.pyx\u001b[0m in \u001b[0;36mpandas._libs.lib.astype_intsafe\u001b[0;34m()\u001b[0m\n",
      "\u001b[0;31mValueError\u001b[0m: invalid literal for int() with base 10: '0.0'"
     ]
    }
   ],
   "source": [
    "### Convert data types\n",
    "\n",
    "countyData = countyData.astype({\"Total Cases\" : \"int64\",\n",
    "                                \"Total Deaths\" : \"int64\",\n",
    "                                \"Population\" : \"int64\",\n",
    "                                \"New Cases\" : \"int64\",\n",
    "                                \"New Deaths\" : \"int64\",\n",
    "                                \"%Cases\" : \"float64\",\n",
    "                                \"%Deaths\" : \"float64\",\n",
    "                                \"log(Total Cases)\" : \"float64\",\n",
    "                                \"log(Total Deaths)\" : \"float64\",\n",
    "                                \"log(New Cases)\" : \"float64\", \n",
    "                                \"log(New Deaths)\" : \"float6\"})\n",
    "\n",
    "stateData = stateData.astype({\"Total Cases\" : \"int64\",\n",
    "                              \"Total Deaths\" : \"int64\",\n",
    "                              \"Population\" : \"int64\",\n",
    "                              \"New Cases\" : \"int64\",\n",
    "                              \"New Deaths\" : \"int64\",\n",
    "                              \"%Cases\" : \"float64\",\n",
    "                              \"%Deaths\" : \"float64\",\n",
    "                              \"log(Total Cases)\" : \"float64\",\n",
    "                              \"log(Total Deaths)\" : \"float64\",\n",
    "                              \"log(New Cases)\" : \"float64\", \n",
    "                              \"log(New Deaths)\" : \"float64\"})\n",
    "\n",
    "usaData = usaData.astype({\"Total Cases\" : \"int64\",\n",
    "                          \"Total Deaths\" : \"int64\",\n",
    "                          \"Population\" : \"int64\",\n",
    "                          \"New Cases\" : \"int64\",\n",
    "                          \"New Deaths\" : \"int64\",\n",
    "                          \"%Cases\" : \"float64\",\n",
    "                          \"%Deaths\" : \"float64\", \n",
    "                          \"log(Total Cases)\" : \"float64\",\n",
    "                          \"log(Total Deaths)\" : \"float64\",\n",
    "                          \"log(New Cases)\" : \"float64\", \n",
    "                          \"log(New Deaths)\" : \"float64\"})"
   ]
  },
  {
   "cell_type": "markdown",
   "metadata": {},
   "source": [
    "# Covid-19 Dashboard"
   ]
  },
  {
   "cell_type": "code",
   "execution_count": 12,
   "metadata": {},
   "outputs": [
    {
     "ename": "AttributeError",
     "evalue": "'JupyterDash' object has no attribute 'run_server'",
     "output_type": "error",
     "traceback": [
      "\u001b[0;31m---------------------------------------------------------------------------\u001b[0m",
      "\u001b[0;31mAttributeError\u001b[0m                            Traceback (most recent call last)",
      "\u001b[0;32m<ipython-input-12-81be9866fbbb>\u001b[0m in \u001b[0;36m<module>\u001b[0;34m\u001b[0m\n\u001b[1;32m     11\u001b[0m \u001b[0;34m\u001b[0m\u001b[0m\n\u001b[1;32m     12\u001b[0m \u001b[0;34m\u001b[0m\u001b[0m\n\u001b[0;32m---> 13\u001b[0;31m \u001b[0mapp\u001b[0m\u001b[0;34m.\u001b[0m\u001b[0mrun_server\u001b[0m\u001b[0;34m(\u001b[0m\u001b[0;34m)\u001b[0m\u001b[0;34m\u001b[0m\u001b[0;34m\u001b[0m\u001b[0m\n\u001b[0m",
      "\u001b[0;31mAttributeError\u001b[0m: 'JupyterDash' object has no attribute 'run_server'"
     ]
    }
   ],
   "source": [
    "app = JupyterDash('Simple Example')\n",
    "\n",
    "\n",
    "### App Layout\n",
    "app.layout = html.Div([\n",
    "    \n",
    "    html.H1(\"Covid-19 Dashboard\", style = {'text-align' : 'center'})\n",
    "    \n",
    "      \n",
    "])\n",
    "\n",
    "\n",
    "app.run_server()"
   ]
  },
  {
   "cell_type": "code",
   "execution_count": 16,
   "metadata": {},
   "outputs": [
    {
     "data": {
      "text/plain": [
       "False"
      ]
     },
     "execution_count": 16,
     "metadata": {},
     "output_type": "execute_result"
    }
   ],
   "source": [
    "app.use_nbproxy"
   ]
  },
  {
   "cell_type": "code",
   "execution_count": null,
   "metadata": {},
   "outputs": [],
   "source": [
    "!jupyter serverextension install jupyter_server_proxy\n",
    "!jupyter serverextension enable jupyter_server_proxy"
   ]
  },
  {
   "cell_type": "code",
   "execution_count": 1,
   "metadata": {},
   "outputs": [
    {
     "name": "stdout",
     "output_type": "stream",
     "text": [
      "\u001b[33mWARNING: Skipping dash as it is not installed.\u001b[0m\n"
     ]
    }
   ],
   "source": [
    "!pip uninstall dash"
   ]
  },
  {
   "cell_type": "code",
   "execution_count": null,
   "metadata": {},
   "outputs": [],
   "source": []
  }
 ],
 "metadata": {
  "kernelspec": {
   "display_name": "Python 3",
   "language": "python",
   "name": "python3"
  },
  "language_info": {
   "codemirror_mode": {
    "name": "ipython",
    "version": 3
   },
   "file_extension": ".py",
   "mimetype": "text/x-python",
   "name": "python",
   "nbconvert_exporter": "python",
   "pygments_lexer": "ipython3",
   "version": "3.7.7"
  }
 },
 "nbformat": 4,
 "nbformat_minor": 4
}
